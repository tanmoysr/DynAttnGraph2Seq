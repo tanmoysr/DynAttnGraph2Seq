{
 "cells": [
  {
   "cell_type": "markdown",
   "metadata": {},
   "source": [
    "Data Source: https://bladdercancersupport.org/\n",
    "\n",
    "Forum Name:\n",
    "1.    Newly Diagnosed, New To The Forum\n",
    "2.    Non Invasive Bladder Cancer\n",
    "3.    Muscle Invasive Bladder Cancer\n",
    "4.    Metastatic Bladder Cancer\n",
    "5.    Women and Bladder Cancer\n",
    "6.    Men and Bladder Cancer\n",
    "7.    Caregivers Questions and Comments\n",
    "8.    Articles of Interest\n",
    "9.    Chit Chat\n",
    "10.    \"How To\" Information\n",
    "11.    Site Notices"
   ]
  },
  {
   "cell_type": "code",
   "execution_count": 5,
   "metadata": {},
   "outputs": [
    {
     "name": "stderr",
     "output_type": "stream",
     "text": [
      "[nltk_data] Downloading package stopwords to\n",
      "[nltk_data]     C:\\Users\\tanmo\\AppData\\Roaming\\nltk_data...\n",
      "[nltk_data]   Package stopwords is already up-to-date!\n"
     ]
    }
   ],
   "source": [
    "import nltk\n",
    "from nltk import FreqDist\n",
    "nltk.download('stopwords') # run this one time\n",
    "import pandas as pd\n",
    "pd.set_option(\"display.max_colwidth\", 200)\n",
    "import numpy as np\n",
    "import re\n",
    "import spacy\n",
    "\n",
    "import gensim\n",
    "from gensim import corpora\n",
    "\n",
    "# libraries for visualization\n",
    "import pyLDAvis\n",
    "import pyLDAvis.gensim\n",
    "import matplotlib.pyplot as plt\n",
    "import seaborn as sns\n",
    "%matplotlib inline\n",
    "import os, json\n",
    "from operator import gt\n",
    "\n",
    "import pandas as pd\n",
    "from functools import reduce\n",
    "from nltk.corpus import stopwords\n",
    "from nltk.stem.wordnet import WordNetLemmatizer\n",
    "import string"
   ]
  },
  {
   "cell_type": "markdown",
   "metadata": {},
   "source": [
    "Important Links:https:\n",
    "https://www.analyticsvidhya.com/blog/2018/10/mining-online-reviews-topic-modeling-lda/\n",
    "https://radimrehurek.com/gensim/models/ldamulticore.html\n",
    "https://radimrehurek.com/gensim/models/ldamodel.html\n",
    "https://www.kaggle.com/ktattan/lda-and-document-similarity\n",
    "https://mode.com/python-tutorial/python-histograms-boxplots-and-distributions"
   ]
  },
  {
   "cell_type": "code",
   "execution_count": 2,
   "metadata": {},
   "outputs": [],
   "source": [
    "stop    = set(stopwords.words('english'))\n",
    "exclude = set(string.punctuation)\n",
    "lemma   = WordNetLemmatizer()"
   ]
  },
  {
   "cell_type": "markdown",
   "metadata": {},
   "source": [
    "'''>>> from functools import reduce\n",
    "    def deep_get(dictionary, keys, default=None):\n",
    "    ...     return reduce(lambda d, key: d.get(key, default) if isinstance(d, dict) else default, keys.split(\".\"), dictionary)\n",
    "    Application:\n",
    "    person = {'person':{'name':{'first':'John'}}}\n",
    "    print (deep_get(person, \"person.name.first\"))\n",
    "    output: John\n",
    "    print (deep_get(person, \"person.name.lastname\"))\n",
    "    output: None\n",
    "    print (deep_get(person, \"person.name.lastname\", default=\"No lastname\"))\n",
    "    output: No lastname'''"
   ]
  },
  {
   "cell_type": "code",
   "execution_count": 68,
   "metadata": {},
   "outputs": [
    {
     "name": "stderr",
     "output_type": "stream",
     "text": [
      "<>:31: DeprecationWarning: invalid escape sequence \\s\n",
      "<>:31: DeprecationWarning: invalid escape sequence \\s\n",
      "<>:31: DeprecationWarning: invalid escape sequence \\s\n",
      "<ipython-input-68-a13d2b5bd216>:31: DeprecationWarning: invalid escape sequence \\s\n",
      "  text_List.append(re.sub('\\s+', ' ', data['posts'][post_idx]['text']))\n"
     ]
    }
   ],
   "source": [
    "def createDataFrame(path_to_json):\n",
    "    # listing all json files      \n",
    "    json_files = [pos_json for pos_json in os.listdir(path_to_json) if pos_json.endswith('.json')]\n",
    "    #     print(json_files)\n",
    "\n",
    "    #     point of interests\n",
    "    author_List = []\n",
    "    signature_List = []\n",
    "    # treatment_List = []\n",
    "    forum_id_List = []\n",
    "    forum_List = []\n",
    "    topic_List = [] # Topic title\n",
    "    # postType_List = [] # original or reply\n",
    "    text_List = [] # content of post\n",
    "    time_List = [] # mm/dd/yyyy\n",
    "    time_MM = [] # month\n",
    "    time_DD = [] # date\n",
    "    time_YYYY = [] # year\n",
    "\n",
    "    for files in json_files:   \n",
    "    #     print(files)\n",
    "        JSON_PATH = os.path.join(path_to_json,files)\n",
    "        with open(JSON_PATH) as data_file:\n",
    "            data = json.load(data_file)       \n",
    "            for post_idx in range(0,len(data['posts'])):\n",
    "                author_List.append(files.split('.json')[0])\n",
    "                signature_List.append(\" \".join([text for text in data['signature']]))\n",
    "                forum_id_List.append(data['posts'][post_idx]['subforum'].split('-')[0])\n",
    "                forum_List.append((\" \".join([text for text in data['posts'][post_idx]['subforum'].split('-')[1:]])))\n",
    "                topic_List.append(data['posts'][post_idx]['topic'])\n",
    "                text_List.append(re.sub('\\s+', ' ', data['posts'][post_idx]['text']))\n",
    "                time_extracted = data['posts'][post_idx]['date'].split('T')[0].split('-')\n",
    "                time_List.append(time_extracted[1]+'/'+time_extracted[2]+'/'+time_extracted[0])\n",
    "                time_MM.append(time_extracted[1])\n",
    "                time_DD.append(time_extracted[2])\n",
    "                time_YYYY.append(time_extracted[0])\n",
    "\n",
    "    mergeDict={'author': author_List, 'signature': signature_List,\n",
    "               'forum_id':forum_id_List, 'forum':forum_List,\n",
    "               'topic':topic_List, 'text': text_List,  \n",
    "               'time': time_List, 'month': time_MM, 'day': time_DD, 'year': time_YYYY}\n",
    "    mergeData = pd.DataFrame(mergeDict)\n",
    "    return mergeData"
   ]
  },
  {
   "cell_type": "code",
   "execution_count": 69,
   "metadata": {},
   "outputs": [],
   "source": [
    "path_to_json = \"C:\\\\Users\\\\tanmo\\\\OneDrive - George Mason University\\\\LabWork\\\\HealthForum\\\\SourceCode\\\\data\\\\bladderCancer_users\\\\\" \n",
    "mergedf = createDataFrame(path_to_json)\n",
    "# save as csv file\n",
    "mergedf.to_csv(r'C:\\\\Users\\\\tanmo\\\\OneDrive - George Mason University\\\\LabWork\\\\HealthForum\\\\SourceCode\\\\pointOfInterest_bladderCancer.csv')"
   ]
  },
  {
   "cell_type": "code",
   "execution_count": 77,
   "metadata": {
    "scrolled": true
   },
   "outputs": [
    {
     "data": {
      "text/html": [
       "<div>\n",
       "<style scoped>\n",
       "    .dataframe tbody tr th:only-of-type {\n",
       "        vertical-align: middle;\n",
       "    }\n",
       "\n",
       "    .dataframe tbody tr th {\n",
       "        vertical-align: top;\n",
       "    }\n",
       "\n",
       "    .dataframe thead th {\n",
       "        text-align: right;\n",
       "    }\n",
       "</style>\n",
       "<table border=\"1\" class=\"dataframe\">\n",
       "  <thead>\n",
       "    <tr style=\"text-align: right;\">\n",
       "      <th></th>\n",
       "      <th>author</th>\n",
       "      <th>signature</th>\n",
       "      <th>forum_id</th>\n",
       "      <th>forum</th>\n",
       "      <th>topic</th>\n",
       "      <th>text</th>\n",
       "      <th>time</th>\n",
       "      <th>month</th>\n",
       "      <th>day</th>\n",
       "      <th>year</th>\n",
       "    </tr>\n",
       "  </thead>\n",
       "  <tbody>\n",
       "    <tr>\n",
       "      <th>0</th>\n",
       "      <td>Alan</td>\n",
       "      <td>Dx BCG</td>\n",
       "      <td>3</td>\n",
       "      <td>newly diagnosed</td>\n",
       "      <td>my latest urine cytology</td>\n",
       "      <td>I'd simply wait for your doctor as he has all of your history and files. For peace of mind it is good you are seeing him in two days. That said, urine cytology is notorious for false positives. I...</td>\n",
       "      <td>02/24/2021</td>\n",
       "      <td>02</td>\n",
       "      <td>24</td>\n",
       "      <td>2021</td>\n",
       "    </tr>\n",
       "    <tr>\n",
       "      <th>1</th>\n",
       "      <td>Alan</td>\n",
       "      <td>Dx BCG</td>\n",
       "      <td>3</td>\n",
       "      <td>newly diagnosed</td>\n",
       "      <td>VETERANS - New Conditions Added to Agent Orange Presumptive List</td>\n",
       "      <td>Jack, Thanks for the info. I have a good friend with Parkinson's that continues downhill from his 2 years in Nam.</td>\n",
       "      <td>02/09/2021</td>\n",
       "      <td>02</td>\n",
       "      <td>09</td>\n",
       "      <td>2021</td>\n",
       "    </tr>\n",
       "    <tr>\n",
       "      <th>2</th>\n",
       "      <td>Alan</td>\n",
       "      <td>Dx BCG</td>\n",
       "      <td>3</td>\n",
       "      <td>newly diagnosed</td>\n",
       "      <td>Recently Diagnosed</td>\n",
       "      <td>Skyking 76, Welcome. I am not making excuses for the Doc's slow response except to say COVID has changed a lot of protocols and timing. At the same time, you are paying for expertise to where if ...</td>\n",
       "      <td>02/06/2021</td>\n",
       "      <td>02</td>\n",
       "      <td>06</td>\n",
       "      <td>2021</td>\n",
       "    </tr>\n",
       "    <tr>\n",
       "      <th>3</th>\n",
       "      <td>Alan</td>\n",
       "      <td>Dx BCG</td>\n",
       "      <td>3</td>\n",
       "      <td>newly diagnosed</td>\n",
       "      <td>Recently diagnosed &amp;amp;amp; scared</td>\n",
       "      <td>I am not in your shoes but, I tell myself the cysto is usually no more than 5-10 minutes and it is over. Is it fun? No! However, I wouldn't want an OR visit as I have been knocked out too many ti...</td>\n",
       "      <td>09/27/2020</td>\n",
       "      <td>09</td>\n",
       "      <td>27</td>\n",
       "      <td>2020</td>\n",
       "    </tr>\n",
       "    <tr>\n",
       "      <th>4</th>\n",
       "      <td>Alan</td>\n",
       "      <td>Dx BCG</td>\n",
       "      <td>3</td>\n",
       "      <td>newly diagnosed</td>\n",
       "      <td>Recently diagnosed &amp;amp;amp; scared</td>\n",
       "      <td>Sorry for the reason to renter the forum. This is still treatable and beatable. Ask as you go.</td>\n",
       "      <td>02/06/2021</td>\n",
       "      <td>02</td>\n",
       "      <td>06</td>\n",
       "      <td>2021</td>\n",
       "    </tr>\n",
       "  </tbody>\n",
       "</table>\n",
       "</div>"
      ],
      "text/plain": [
       "  author signature forum_id            forum  \\\n",
       "0   Alan    Dx BCG        3  newly diagnosed   \n",
       "1   Alan    Dx BCG        3  newly diagnosed   \n",
       "2   Alan    Dx BCG        3  newly diagnosed   \n",
       "3   Alan    Dx BCG        3  newly diagnosed   \n",
       "4   Alan    Dx BCG        3  newly diagnosed   \n",
       "\n",
       "                                                              topic  \\\n",
       "0                                          my latest urine cytology   \n",
       "1  VETERANS - New Conditions Added to Agent Orange Presumptive List   \n",
       "2                                                Recently Diagnosed   \n",
       "3                               Recently diagnosed &amp;amp; scared   \n",
       "4                               Recently diagnosed &amp;amp; scared   \n",
       "\n",
       "                                                                                                                                                                                                      text  \\\n",
       "0   I'd simply wait for your doctor as he has all of your history and files. For peace of mind it is good you are seeing him in two days. That said, urine cytology is notorious for false positives. I...   \n",
       "1                                                                                       Jack, Thanks for the info. I have a good friend with Parkinson's that continues downhill from his 2 years in Nam.    \n",
       "2   Skyking 76, Welcome. I am not making excuses for the Doc's slow response except to say COVID has changed a lot of protocols and timing. At the same time, you are paying for expertise to where if ...   \n",
       "3   I am not in your shoes but, I tell myself the cysto is usually no more than 5-10 minutes and it is over. Is it fun? No! However, I wouldn't want an OR visit as I have been knocked out too many ti...   \n",
       "4                                                                                                          Sorry for the reason to renter the forum. This is still treatable and beatable. Ask as you go.    \n",
       "\n",
       "         time month day  year  \n",
       "0  02/24/2021    02  24  2021  \n",
       "1  02/09/2021    02  09  2021  \n",
       "2  02/06/2021    02  06  2021  \n",
       "3  09/27/2020    09  27  2020  \n",
       "4  02/06/2021    02  06  2021  "
      ]
     },
     "execution_count": 77,
     "metadata": {},
     "output_type": "execute_result"
    }
   ],
   "source": [
    "mergedf.head()"
   ]
  },
  {
   "cell_type": "code",
   "execution_count": 78,
   "metadata": {},
   "outputs": [
    {
     "data": {
      "text/plain": [
       "Text(0, 0.5, 'participation')"
      ]
     },
     "execution_count": 78,
     "metadata": {},
     "output_type": "execute_result"
    },
    {
     "data": {
      "image/png": "[encoded data removed]",
      "text/plain": [
       "<Figure size 720x216 with 1 Axes>"
      ]
     },
     "metadata": {
      "needs_background": "light"
     },
     "output_type": "display_data"
    }
   ],
   "source": [
    "mergedf.groupby('author').size().reset_index(name='count').plot(figsize=(10,3))\n",
    "plt.xlabel('user')\n",
    "plt.ylabel('participation')\n",
    "\n",
    "# mergedf[mergedf.author.str.contains('evilelf',case=False)].groupby('time').size().reset_index(name='count')).sort_values() # time range"
   ]
  },
  {
   "cell_type": "code",
   "execution_count": 199,
   "metadata": {},
   "outputs": [
    {
     "data": {
      "image/png": "[encoded data removed]",
      "text/plain": [
       "<Figure size 432x288 with 1 Axes>"
      ]
     },
     "metadata": {
      "needs_background": "light"
     },
     "output_type": "display_data"
    }
   ],
   "source": [
    "# checking post number by year\n",
    "df_year = df.groupby(['year'], sort=False).size().reset_index(name='Count')\n",
    "df_year.sort_values(\"Count\", axis = 0, ascending = True, \n",
    "                 inplace = True, na_position ='first')\n",
    "# print(df_author)\n",
    "plt.bar(df_year['year'], df_year['Count'])\n",
    "plt.xlabel('year')\n",
    "plt.xlabel('count')\n",
    "plt.show()"
   ]
  },
  {
   "cell_type": "code",
   "execution_count": 79,
   "metadata": {},
   "outputs": [],
   "source": [
    "# function to plot most frequent terms\n",
    "def freq_words(x, terms = 30):\n",
    "  all_words = ' '.join([text for text in x])\n",
    "  all_words = all_words.split()\n",
    "\n",
    "  fdist = FreqDist(all_words)\n",
    "  words_df = pd.DataFrame({'word':list(fdist.keys()), 'count':list(fdist.values())})\n",
    "\n",
    "  # selecting top 20 most frequent words\n",
    "  d = words_df.nlargest(columns=\"count\", n = terms) \n",
    "  plt.figure(figsize=(20,5))\n",
    "  ax = sns.barplot(data=d, x= \"word\", y = \"count\")\n",
    "  ax.set(ylabel = 'Count')\n",
    "  plt.show()"
   ]
  },
  {
   "cell_type": "code",
   "execution_count": 80,
   "metadata": {
    "scrolled": true
   },
   "outputs": [
    {
     "data": {
      "image/png": "[encoded data removed]",
      "text/plain": [
       "<Figure size 1440x360 with 1 Axes>"
      ]
     },
     "metadata": {
      "needs_background": "light"
     },
     "output_type": "display_data"
    }
   ],
   "source": [
    "# Frequent words\n",
    "freq_words(mergedf['text'])"
   ]
  },
  {
   "cell_type": "code",
   "execution_count": 81,
   "metadata": {},
   "outputs": [],
   "source": [
    "# remove unwanted characters, numbers and symbols\n",
    "mergedf['text'] = mergedf['text'].str.replace(\"[^a-zA-Z#]\", \" \")"
   ]
  },
  {
   "cell_type": "code",
   "execution_count": 82,
   "metadata": {},
   "outputs": [],
   "source": [
    "from nltk.corpus import stopwords\n",
    "stop_words = stopwords.words('english')"
   ]
  },
  {
   "cell_type": "code",
   "execution_count": 84,
   "metadata": {},
   "outputs": [],
   "source": [
    "# function to remove stopwords\n",
    "def remove_stopwords(rev):\n",
    "    rev_new = \" \".join([i for i in rev if i not in stop_words])\n",
    "    return rev_new\n",
    "\n",
    "# remove short words (length < 3)\n",
    "# df['Moderators'] = df['Moderators'].apply(lambda x: ' '.join([w for w in x.split() if len(w)>2]))\n",
    "mergedf['text'] = mergedf['text'].apply(lambda x: ' '.join([w for w in x.split() if len(w)>2]))\n",
    "\n",
    "# remove stopwords from the text\n",
    "# reviews = [remove_stopwords(r.split()) for r in df['Moderators']]\n",
    "\n",
    "reviews = [remove_stopwords(r.split()) for r in mergedf['text']]\n",
    "\n",
    "# make entire text lowercase\n",
    "reviews = [r.lower() for r in reviews]"
   ]
  },
  {
   "cell_type": "code",
   "execution_count": 85,
   "metadata": {},
   "outputs": [
    {
     "data": {
      "image/png": "[encoded data removed]",
      "text/plain": [
       "<Figure size 1440x360 with 1 Axes>"
      ]
     },
     "metadata": {
      "needs_background": "light"
     },
     "output_type": "display_data"
    }
   ],
   "source": [
    "freq_words(reviews, 20)"
   ]
  },
  {
   "cell_type": "markdown",
   "metadata": {},
   "source": [
    "!python -m spacy download en # one time run"
   ]
  },
  {
   "cell_type": "code",
   "execution_count": 86,
   "metadata": {},
   "outputs": [],
   "source": [
    "import spacy\n",
    "from spacy.lang.en import English\n",
    "\n",
    "nlp = spacy.load('en_core_web_sm')\n",
    "\n",
    "# nlp = spacy.load('en', disable=['parser', 'ner'])\n",
    "\n",
    "def lemmatization(texts, tags=['NOUN', 'ADJ']): # filter noun and adjective\n",
    "       output = []\n",
    "       for sent in texts:\n",
    "             doc = nlp(\" \".join(sent)) \n",
    "             output.append([token.lemma_ for token in doc if token.pos_ in tags])\n",
    "       return output"
   ]
  },
  {
   "cell_type": "code",
   "execution_count": 87,
   "metadata": {
    "scrolled": true
   },
   "outputs": [
    {
     "name": "stdout",
     "output_type": "stream",
     "text": [
      "['jack', 'thanks', 'info', 'good', 'friend', 'parkinson', 'continues', 'downhill', 'years', 'nam']\n"
     ]
    }
   ],
   "source": [
    "tokenized_reviews = pd.Series(reviews).apply(lambda x: x.split())\n",
    "print(tokenized_reviews[1])"
   ]
  },
  {
   "cell_type": "code",
   "execution_count": 88,
   "metadata": {},
   "outputs": [
    {
     "name": "stdout",
     "output_type": "stream",
     "text": [
      "['jack', 'thank', 'good', 'friend', 'parkinson', 'year', 'nam']\n"
     ]
    }
   ],
   "source": [
    "reviews_2 = lemmatization(tokenized_reviews)\n",
    "print(reviews_2[1]) # print lemmatized review"
   ]
  },
  {
   "cell_type": "code",
   "execution_count": 89,
   "metadata": {},
   "outputs": [
    {
     "data": {
      "image/png": "[encoded data removed]",
      "text/plain": [
       "<Figure size 1440x360 with 1 Axes>"
      ]
     },
     "metadata": {
      "needs_background": "light"
     },
     "output_type": "display_data"
    }
   ],
   "source": [
    "reviews_3 = []\n",
    "for i in range(len(reviews_2)):\n",
    "    reviews_3.append(' '.join(reviews_2[i]))\n",
    "\n",
    "# df['reviews'] = reviews_3\n",
    "mergedf['reviews'] = reviews_3\n",
    "\n",
    "# freq_words(df['reviews'], 20)\n",
    "freq_words(mergedf['reviews'], 20)\n",
    "# singleUser_data.head()"
   ]
  },
  {
   "cell_type": "code",
   "execution_count": 90,
   "metadata": {},
   "outputs": [],
   "source": [
    "# Creating the object for LDA model using gensim library\n",
    "dictionary = corpora.Dictionary(reviews_2)\n",
    "doc_term_matrix = [dictionary.doc2bow(rev) for rev in reviews_2]"
   ]
  },
  {
   "cell_type": "code",
   "execution_count": 16,
   "metadata": {},
   "outputs": [],
   "source": [
    "# Save Doc term matrix\n",
    "import pickle\n",
    "\n",
    "f = open('rest_doc_term_matrix.pckl', 'wb')\n",
    "pickle.dump(doc_term_matrix, f)\n",
    "f.close()\n"
   ]
  },
  {
   "cell_type": "code",
   "execution_count": null,
   "metadata": {},
   "outputs": [],
   "source": [
    "f1 = open('dictionary.pckl', 'wb')\n",
    "pickle.dump(dictionary, f1)\n",
    "f1.close()"
   ]
  },
  {
   "cell_type": "code",
   "execution_count": 91,
   "metadata": {},
   "outputs": [],
   "source": [
    "LDA = gensim.models.ldamodel.LdaModel\n",
    "\n",
    "# Build LDA model\n",
    "lda_model = LDA(corpus=doc_term_matrix, id2word=dictionary, num_topics=6, random_state=100,\n",
    "                chunksize=1000, passes=50)"
   ]
  },
  {
   "cell_type": "code",
   "execution_count": 109,
   "metadata": {},
   "outputs": [
    {
     "data": {
      "text/plain": [
       "[('cancer', 0.049607746),\n",
       " ('bladder', 0.04821316),\n",
       " ('good', 0.022454334),\n",
       " ('sara', 0.019977184),\n",
       " ('anne', 0.01912918),\n",
       " ('urologist', 0.01626984),\n",
       " ('treatment', 0.0152595565),\n",
       " ('doctor', 0.01487245),\n",
       " ('grade', 0.013573473),\n",
       " ('tumor', 0.013424198),\n",
       " ('second', 0.013270894),\n",
       " ('opinion', 0.010828803),\n",
       " ('high', 0.009470746),\n",
       " ('year', 0.009219362),\n",
       " ('many', 0.00915878),\n",
       " ('turb', 0.008536704),\n",
       " ('diagnosis', 0.008458544),\n",
       " ('question', 0.008096003),\n",
       " ('time', 0.0065636975),\n",
       " ('low', 0.00636202),\n",
       " ('case', 0.0063510663),\n",
       " ('report', 0.0062878416),\n",
       " ('invasive', 0.0058607934),\n",
       " ('thing', 0.0057563814),\n",
       " ('test', 0.0055545014),\n",
       " ('bcg', 0.005538334),\n",
       " ('biopsy', 0.0050484813),\n",
       " ('lot', 0.0048580593),\n",
       " ('first', 0.004785748),\n",
       " ('pathology', 0.0047754045)]"
      ]
     },
     "execution_count": 109,
     "metadata": {},
     "output_type": "execute_result"
    }
   ],
   "source": [
    "# Visualize the topics\n",
    "# lda_model.print_topics()\n",
    "lda_model.show_topic(topicid=3, topn=30)"
   ]
  },
  {
   "cell_type": "code",
   "execution_count": 97,
   "metadata": {},
   "outputs": [],
   "source": [
    "# Save Topics\n",
    "forumModel=str(lda_model.print_topics())\n",
    "# print(forumModel)\n",
    "outfile = 'C:\\\\Users\\\\tanmo\\\\OneDrive - George Mason University\\\\LabWork\\\\HealthForum\\\\SourceCode\\\\modelResults\\\\topicModelingBladderCancer.txt'\n",
    "with open(outfile, 'w') as f:\n",
    "    for item in forumModel:\n",
    "        f.write(\"%s\\n\" % item)"
   ]
  },
  {
   "cell_type": "code",
   "execution_count": 110,
   "metadata": {},
   "outputs": [
    {
     "name": "stderr",
     "output_type": "stream",
     "text": [
      "C:\\Users\\tanmo\\Anaconda3\\lib\\site-packages\\pyLDAvis\\_prepare.py:257: FutureWarning: Sorting because non-concatenation axis is not aligned. A future version\n",
      "of pandas will change to not sort by default.\n",
      "\n",
      "To accept the future behavior, pass 'sort=False'.\n",
      "\n",
      "To retain the current behavior and silence the warning, pass 'sort=True'.\n",
      "\n",
      "  return pd.concat([default_term_info] + list(topic_dfs))\n"
     ]
    },
    {
     "data": {
      "text/html": [
       "\n",
       "<link rel=\"stylesheet\" type=\"text/css\" href=\"https://cdn.rawgit.com/bmabey/pyLDAvis/files/ldavis.v1.0.0.css\">\n",
       "\n",
       "\n",
       "<div id=\"ldavis_el3604020972859598723544136749\"></div>\n",
       "<script type=\"text/javascript\">\n",
       "\n",
       "var ldavis_el3604020972859598723544136749_data = {\"mdsDat\": {\"x\": [-0.04268681213623002, 0.08821831304926994, 0.1017305984522228, 0.04099996624577752, -0.35982675593145497, 0.17156469032041452], \"y\": [-0.1190677589542083, 0.06836253567848688, -0.15018775535515577, -0.13884030362635436, 0.09113535481266029, 0.2485979274445711], \"topics\": [1, 2, 3, 4, 5, 6], \"cluster\": [1, 1, 1, 1, 1, 1], \"Freq\": [33.95525360107422, 19.65561294555664, 16.33646011352539, 10.533872604370117, 9.909273147583008, 9.609537124633789]}, \"tinfo\": {\"Category\": [\"Default\", \"Default\", \"Default\", \"Default\", \"Default\", \"Default\", \"Default\", \"Default\", \"Default\", \"Default\", \"Default\", \"Default\", \"Default\", \"Default\", \"Default\", \"Default\", \"Default\", \"Default\", \"Default\", \"Default\", \"Default\", \"Default\", \"Default\", \"Default\", \"Default\", \"Default\", \"Default\", \"Default\", \"Default\", \"Default\", \"Topic1\", \"Topic1\", \"Topic1\", \"Topic1\", \"Topic1\", \"Topic1\", \"Topic1\", \"Topic1\", \"Topic1\", \"Topic1\", \"Topic1\", \"Topic1\", \"Topic1\", \"Topic1\", \"Topic1\", \"Topic1\", \"Topic1\", \"Topic1\", \"Topic1\", \"Topic1\", \"Topic1\", \"Topic1\", \"Topic1\", \"Topic1\", \"Topic1\", \"Topic1\", \"Topic1\", \"Topic1\", \"Topic1\", \"Topic1\", \"Topic1\", \"Topic1\", \"Topic1\", \"Topic1\", \"Topic1\", \"Topic1\", \"Topic1\", \"Topic1\", \"Topic1\", \"Topic1\", \"Topic1\", \"Topic1\", \"Topic1\", \"Topic1\", \"Topic1\", \"Topic1\", \"Topic1\", \"Topic1\", \"Topic1\", \"Topic1\", \"Topic1\", \"Topic1\", \"Topic1\", \"Topic1\", \"Topic1\", \"Topic1\", \"Topic1\", \"Topic1\", \"Topic1\", \"Topic1\", \"Topic1\", \"Topic1\", \"Topic1\", \"Topic1\", \"Topic1\", \"Topic1\", \"Topic2\", \"Topic2\", \"Topic2\", \"Topic2\", \"Topic2\", \"Topic2\", \"Topic2\", \"Topic2\", \"Topic2\", \"Topic2\", \"Topic2\", \"Topic2\", \"Topic2\", \"Topic2\", \"Topic2\", \"Topic2\", \"Topic2\", \"Topic2\", \"Topic2\", \"Topic2\", \"Topic2\", \"Topic2\", \"Topic2\", \"Topic2\", \"Topic2\", \"Topic2\", \"Topic2\", \"Topic2\", \"Topic2\", \"Topic2\", \"Topic2\", \"Topic2\", \"Topic2\", \"Topic2\", \"Topic2\", \"Topic2\", \"Topic2\", \"Topic2\", \"Topic2\", \"Topic2\", \"Topic2\", \"Topic2\", \"Topic2\", \"Topic2\", \"Topic2\", \"Topic2\", \"Topic2\", \"Topic2\", \"Topic2\", \"Topic2\", \"Topic2\", \"Topic2\", \"Topic2\", \"Topic2\", \"Topic2\", \"Topic2\", \"Topic2\", \"Topic2\", \"Topic2\", \"Topic2\", \"Topic2\", \"Topic2\", \"Topic2\", \"Topic2\", \"Topic2\", \"Topic2\", \"Topic2\", \"Topic2\", \"Topic2\", \"Topic2\", \"Topic2\", \"Topic2\", \"Topic3\", \"Topic3\", \"Topic3\", \"Topic3\", \"Topic3\", \"Topic3\", \"Topic3\", \"Topic3\", \"Topic3\", \"Topic3\", \"Topic3\", \"Topic3\", \"Topic3\", \"Topic3\", \"Topic3\", \"Topic3\", \"Topic3\", \"Topic3\", \"Topic3\", \"Topic3\", \"Topic3\", \"Topic3\", \"Topic3\", \"Topic3\", \"Topic3\", \"Topic3\", \"Topic3\", \"Topic3\", \"Topic3\", \"Topic3\", \"Topic3\", \"Topic3\", \"Topic3\", \"Topic3\", \"Topic3\", \"Topic3\", \"Topic3\", \"Topic3\", \"Topic3\", \"Topic3\", \"Topic3\", \"Topic3\", \"Topic3\", \"Topic3\", \"Topic3\", \"Topic3\", \"Topic3\", \"Topic3\", \"Topic3\", \"Topic3\", \"Topic3\", \"Topic3\", \"Topic3\", \"Topic3\", \"Topic3\", \"Topic3\", \"Topic3\", \"Topic3\", \"Topic3\", \"Topic3\", \"Topic3\", \"Topic4\", \"Topic4\", \"Topic4\", \"Topic4\", \"Topic4\", \"Topic4\", \"Topic4\", \"Topic4\", \"Topic4\", \"Topic4\", \"Topic4\", \"Topic4\", \"Topic4\", \"Topic4\", \"Topic4\", \"Topic4\", \"Topic4\", \"Topic4\", \"Topic4\", \"Topic4\", \"Topic4\", \"Topic4\", \"Topic4\", \"Topic4\", \"Topic4\", \"Topic4\", \"Topic4\", \"Topic4\", \"Topic4\", \"Topic4\", \"Topic4\", \"Topic4\", \"Topic4\", \"Topic4\", \"Topic4\", \"Topic4\", \"Topic4\", \"Topic4\", \"Topic4\", \"Topic4\", \"Topic4\", \"Topic4\", \"Topic4\", \"Topic4\", \"Topic4\", \"Topic4\", \"Topic4\", \"Topic4\", \"Topic4\", \"Topic4\", \"Topic4\", \"Topic4\", \"Topic4\", \"Topic4\", \"Topic4\", \"Topic4\", \"Topic4\", \"Topic4\", \"Topic4\", \"Topic4\", \"Topic4\", \"Topic4\", \"Topic4\", \"Topic5\", \"Topic5\", \"Topic5\", \"Topic5\", \"Topic5\", \"Topic5\", \"Topic5\", \"Topic5\", \"Topic5\", \"Topic5\", \"Topic5\", \"Topic5\", \"Topic5\", \"Topic5\", \"Topic5\", \"Topic5\", \"Topic5\", \"Topic5\", \"Topic5\", \"Topic5\", \"Topic5\", \"Topic5\", \"Topic5\", \"Topic5\", \"Topic5\", \"Topic5\", \"Topic5\", \"Topic5\", \"Topic5\", \"Topic5\", \"Topic5\", \"Topic5\", \"Topic5\", \"Topic5\", \"Topic5\", \"Topic5\", \"Topic5\", \"Topic5\", \"Topic5\", \"Topic5\", \"Topic5\", \"Topic5\", \"Topic5\", \"Topic5\", \"Topic5\", \"Topic5\", \"Topic5\", \"Topic5\", \"Topic5\", \"Topic5\", \"Topic5\", \"Topic6\", \"Topic6\", \"Topic6\", \"Topic6\", \"Topic6\", \"Topic6\", \"Topic6\", \"Topic6\", \"Topic6\", \"Topic6\", \"Topic6\", \"Topic6\", \"Topic6\", \"Topic6\", \"Topic6\", \"Topic6\", \"Topic6\", \"Topic6\", \"Topic6\", \"Topic6\", \"Topic6\", \"Topic6\", \"Topic6\", \"Topic6\", \"Topic6\", \"Topic6\", \"Topic6\", \"Topic6\", \"Topic6\", \"Topic6\", \"Topic6\", \"Topic6\", \"Topic6\", \"Topic6\", \"Topic6\", \"Topic6\", \"Topic6\", \"Topic6\", \"Topic6\", \"Topic6\", \"Topic6\", \"Topic6\", \"Topic6\", \"Topic6\", \"Topic6\", \"Topic6\", \"Topic6\", \"Topic6\", \"Topic6\", \"Topic6\", \"Topic6\", \"Topic6\", \"Topic6\", \"Topic6\", \"Topic6\", \"Topic6\", \"Topic6\", \"Topic6\", \"Topic6\", \"Topic6\"], \"Freq\": [4238.0, 7340.0, 5645.0, 6420.0, 1146.0, 3461.0, 1533.0, 1271.0, 1339.0, 2478.0, 2363.0, 1722.0, 925.0, 1534.0, 2034.0, 1007.0, 1904.0, 1580.0, 1574.0, 1224.0, 565.0, 1514.0, 1037.0, 480.0, 2203.0, 485.0, 884.0, 464.0, 3298.0, 649.0, 1533.804443359375, 1223.6563720703125, 570.4791259765625, 539.6213989257812, 460.6075744628906, 345.83135986328125, 252.0901641845703, 241.5872802734375, 236.07777404785156, 205.28717041015625, 203.5973663330078, 170.95823669433594, 164.3525390625, 159.30078125, 157.61248779296875, 154.09495544433594, 143.7360076904297, 138.68601989746094, 125.88260650634766, 124.7530288696289, 123.3614501953125, 121.61215209960938, 119.57371520996094, 109.57809448242188, 107.48735046386719, 105.5447998046875, 96.84068298339844, 95.40280151367188, 95.79853057861328, 94.02653503417969, 97.56785583496094, 1516.9364013671875, 964.6488037109375, 1499.613037109375, 955.816650390625, 662.2705078125, 2161.60009765625, 2257.424560546875, 1838.494384765625, 353.441650390625, 5448.0947265625, 431.55078125, 710.5270385742188, 1070.1956787109375, 464.43511962890625, 5605.6826171875, 627.659423828125, 308.2712707519531, 323.9332275390625, 718.9092407226562, 525.6361694335938, 717.6714477539062, 1680.589111328125, 498.8099670410156, 2537.343017578125, 1724.3321533203125, 1034.9434814453125, 914.8494873046875, 429.3975524902344, 1041.789306640625, 741.6987915039062, 650.471923828125, 530.406494140625, 540.7902221679688, 625.83251953125, 548.96142578125, 511.46380615234375, 341.0252380371094, 224.7859649658203, 216.41436767578125, 188.3456268310547, 189.6384735107422, 170.96617126464844, 158.4153289794922, 155.2731475830078, 145.87794494628906, 117.59766387939453, 115.0650405883789, 106.55797576904297, 97.91829681396484, 89.93836212158203, 87.15458679199219, 86.33438873291016, 83.4090347290039, 79.12810516357422, 79.14974975585938, 78.60308074951172, 76.07145690917969, 70.55670166015625, 69.08190155029297, 67.69140625, 65.7215576171875, 63.27388000488281, 62.83075714111328, 60.62705993652344, 60.36681365966797, 211.97262573242188, 328.91070556640625, 490.21044921875, 276.5539855957031, 160.95652770996094, 101.1225357055664, 417.58221435546875, 105.68280029296875, 824.4612426757812, 490.94244384765625, 124.36811828613281, 207.7801055908203, 150.5308380126953, 509.6073913574219, 478.49407958984375, 144.46836853027344, 548.8952026367188, 257.78253173828125, 542.4714965820312, 469.94805908203125, 414.7790832519531, 233.6488494873047, 1134.498291015625, 825.6773071289062, 539.3135986328125, 382.0300598144531, 414.0049743652344, 470.2054443359375, 383.7951965332031, 391.3522644042969, 474.206787109375, 404.9625549316406, 849.4290161132812, 604.3328857421875, 454.44970703125, 468.78466796875, 323.6603698730469, 337.2705993652344, 607.3355102539062, 402.7865905761719, 381.4533996582031, 343.270263671875, 924.916015625, 496.7731018066406, 475.2908630371094, 467.7027282714844, 287.01702880859375, 174.73294067382812, 152.85092163085938, 151.5255126953125, 148.0074462890625, 139.45455932617188, 121.77581024169922, 99.9264144897461, 99.50486755371094, 93.7532958984375, 90.91605377197266, 88.62556457519531, 85.00069427490234, 82.58977508544922, 81.06671142578125, 79.9429702758789, 76.5389633178711, 74.35256958007812, 73.19482421875, 71.66557312011719, 71.28805541992188, 68.5469970703125, 66.5049057006836, 65.0223388671875, 64.79954528808594, 65.3382797241211, 3612.2802734375, 218.24851989746094, 110.1922836303711, 891.1383056640625, 90.7608642578125, 360.5591735839844, 1277.8466796875, 147.0285186767578, 932.3958740234375, 509.1889343261719, 1589.2208251953125, 299.4192810058594, 149.61798095703125, 354.0474548339844, 354.90673828125, 323.1038513183594, 427.9457092285156, 355.5502014160156, 270.45721435546875, 332.9280700683594, 779.6618041992188, 599.1124877929688, 459.7841491699219, 353.0881042480469, 680.2890625, 337.7090148925781, 216.2997283935547, 236.87091064453125, 421.67950439453125, 298.10894775390625, 281.7135009765625, 484.2886962890625, 373.1951599121094, 225.3386993408203, 217.0318603515625, 146.60317993164062, 117.38485717773438, 110.84607696533203, 101.3383560180664, 96.98982238769531, 95.19769287109375, 91.76253509521484, 79.65028381347656, 77.38948822021484, 77.24756622314453, 75.38815307617188, 72.84041595458984, 73.0420150756836, 72.18373107910156, 67.75559997558594, 66.50862884521484, 65.66986846923828, 64.63418579101562, 61.038841247558594, 59.120906829833984, 56.78742218017578, 56.26828384399414, 55.49437713623047, 50.926876068115234, 50.416351318359375, 50.24153518676758, 126.3681411743164, 334.7707824707031, 1033.4066162109375, 373.367431640625, 270.0260925292969, 206.3446807861328, 79.10116577148438, 197.15013122558594, 222.32720947265625, 95.8004150390625, 397.6184387207031, 120.80158233642578, 113.45817565917969, 297.6168518066406, 380.2154541015625, 116.43221282958984, 150.41973876953125, 473.0182189941406, 231.39927673339844, 453.9367980957031, 200.29229736328125, 176.9964599609375, 194.084716796875, 152.43667602539062, 237.33859252929688, 265.1752014160156, 151.1237335205078, 197.22950744628906, 202.9647979736328, 204.22926330566406, 139.6983184814453, 144.8309783935547, 147.59771728515625, 564.9469604492188, 480.0340576171875, 463.4808349609375, 264.5599670410156, 229.21922302246094, 224.1087646484375, 175.1679229736328, 168.2505340576172, 166.82228088378906, 166.05499267578125, 148.1290283203125, 117.63130950927734, 117.04512023925781, 113.13811492919922, 105.4944076538086, 99.35572052001953, 94.95557403564453, 93.81529235839844, 92.62479400634766, 84.08182525634766, 80.87223052978516, 78.68006134033203, 73.05169677734375, 72.30384063720703, 68.3301010131836, 67.86100006103516, 67.09916687011719, 66.41481018066406, 65.67699432373047, 63.99643325805664, 233.4078369140625, 306.8903503417969, 133.39712524414062, 712.6900634765625, 232.97666931152344, 262.9267578125, 137.49790954589844, 116.04503631591797, 166.5345458984375, 1126.7550048828125, 112.8812255859375, 120.41242218017578, 189.67538452148438, 242.86050415039062, 485.64202880859375, 213.29823303222656, 158.56251525878906, 162.4372100830078, 147.4607391357422, 126.21327209472656, 125.42101287841797, 1145.604736328125, 321.20794677734375, 288.2987060546875, 249.88035583496094, 143.3790740966797, 133.8609619140625, 130.69151306152344, 105.94593048095703, 102.02618408203125, 95.51986694335938, 91.28672790527344, 85.8998031616211, 77.98139190673828, 78.00341796875, 70.05162811279297, 68.05308532714844, 66.95621490478516, 56.3084602355957, 56.89358901977539, 54.19715118408203, 52.93616485595703, 52.4610710144043, 52.51923370361328, 51.75143051147461, 50.19890213012695, 49.49944305419922, 47.798667907714844, 45.956504821777344, 42.91505432128906, 41.801456451416016, 42.360572814941406, 238.21908569335938, 809.8382568359375, 257.1494445800781, 118.79100799560547, 342.6591491699219, 216.80213928222656, 1698.453125, 391.7784729003906, 448.8703308105469, 106.75700378417969, 300.6349182128906, 146.52027893066406, 357.99884033203125, 309.1104431152344, 126.5342025756836, 429.48883056640625, 294.7631530761719, 417.99273681640625, 154.3531951904297, 382.9032897949219, 171.17945861816406, 236.39637756347656, 181.0654754638672, 287.6248779296875, 138.09226989746094, 146.6651611328125, 183.90234375, 156.7589111328125, 149.557861328125], \"Term\": [\"bcg\", \"cancer\", \"good\", \"bladder\", \"news\", \"treatment\", \"surgery\", \"great\", \"patient\", \"sara\", \"anne\", \"week\", \"effect\", \"grade\", \"urologist\", \"side\", \"day\", \"tumor\", \"second\", \"opinion\", \"www\", \"month\", \"thank\", \"article\", \"thing\", \"catheter\", \"pain\", \"com\", \"time\", \"happy\", \"grade\", \"opinion\", \"biopsy\", \"pathology\", \"stage\", \"sample\", \"papillary\", \"radical\", \"cytology\", \"pathologist\", \"oncologist\", \"recommendation\", \"treatable\", \"lining\", \"resection\", \"node\", \"lymph\", \"fear\", \"usc\", \"false\", \"treat\", \"aggressive\", \"transurethral\", \"slide\", \"statistic\", \"expertise\", \"function\", \"survival\", \"urological\", \"layer\", \"urethral\", \"tumor\", \"turb\", \"second\", \"diagnosis\", \"invasive\", \"anne\", \"sara\", \"urologist\", \"path\", \"bladder\", \"cystectomy\", \"report\", \"high\", \"muscle\", \"cancer\", \"test\", \"tissue\", \"non\", \"low\", \"cell\", \"case\", \"doctor\", \"center\", \"good\", \"treatment\", \"many\", \"question\", \"cystoscopy\", \"year\", \"time\", \"thing\", \"sure\", \"first\", \"bcg\", \"lot\", \"family\", \"support\", \"member\", \"zach\", \"nice\", \"ann\", \"journey\", \"heart\", \"cynthia\", \"hospice\", \"breast\", \"tube\", \"son\", \"caregiver\", \"funny\", \"birthday\", \"blog\", \"parent\", \"depression\", \"brother\", \"travel\", \"liver\", \"willing\", \"nix\", \"nci\", \"memorial\", \"amazing\", \"device\", \"elaine\", \"confidence\", \"personal\", \"wish\", \"friend\", \"dad\", \"share\", \"stress\", \"rosemary\", \"program\", \"people\", \"help\", \"survivor\", \"mother\", \"room\", \"post\", \"care\", \"young\", \"life\", \"word\", \"new\", \"sorry\", \"someone\", \"hard\", \"time\", \"thing\", \"way\", \"forum\", \"site\", \"thank\", \"husband\", \"much\", \"lot\", \"hope\", \"good\", \"year\", \"question\", \"many\", \"other\", \"right\", \"cancer\", \"day\", \"doctor\", \"great\", \"effect\", \"maintenance\", \"cysto\", \"dose\", \"reaction\", \"stricture\", \"series\", \"urgency\", \"fatigue\", \"instillation\", \"leigh\", \"cycle\", \"fever\", \"induction\", \"arthritis\", \"dosage\", \"annual\", \"up\", \"interferon\", \"fluid\", \"cisplatin\", \"frequency\", \"flu\", \"christmas\", \"smoker\", \"middle\", \"flow\", \"afternoon\", \"march\", \"foot\", \"bcg\", \"immune\", \"discomfort\", \"side\", \"empty\", \"mitomycin\", \"week\", \"round\", \"month\", \"last\", \"treatment\", \"infection\", \"antibiotic\", \"symptom\", \"uro\", \"hour\", \"pain\", \"chemo\", \"bit\", \"next\", \"year\", \"day\", \"first\", \"bad\", \"time\", \"blood\", \"system\", \"doc\", \"good\", \"doctor\", \"bladder\", \"catheter\", \"diversion\", \"neobladder\", \"pouch\", \"indiana\", \"hair\", \"intestine\", \"law\", \"conduit\", \"neo\", \"stoma\", \"liquid\", \"pad\", \"bowel\", \"pill\", \"ileal\", \"tea\", \"continence\", \"warren\", \"catheterization\", \"incontinence\", \"condom\", \"coffee\", \"medicare\", \"stent\", \"neobladd\", \"advance\", \"mucus\", \"wake\", \"green\", \"cath\", \"night\", \"surgery\", \"surgeon\", \"nurse\", \"woman\", \"reconstruction\", \"insurance\", \"man\", \"nerve\", \"pain\", \"sleep\", \"complication\", \"hospital\", \"problem\", \"food\", \"water\", \"day\", \"hour\", \"time\", \"normal\", \"procedure\", \"issue\", \"use\", \"lot\", \"thing\", \"prostate\", \"sure\", \"doctor\", \"bladder\", \"kidney\", \"long\", \"week\", \"www\", \"article\", \"com\", \"link\", \"trial\", \"clinical\", \"vitamin\", \"email\", \"org\", \"html\", \"cystitis\", \"view\", \"thinking\", \"lab\", \"national\", \"nih\", \"index\", \"intravesical\", \"blue\", \"culture\", \"php\", \"content\", \"institute\", \"cost\", \"vaccine\", \"effectiveness\", \"prescription\", \"resource\", \"tuberculosis\", \"reduce\", \"page\", \"study\", \"search\", \"patient\", \"drug\", \"research\", \"therapy\", \"website\", \"interesting\", \"cancer\", \"message\", \"web\", \"health\", \"information\", \"bladder\", \"site\", \"risk\", \"new\", \"treatment\", \"jack\", \"option\", \"news\", \"bag\", \"nancy\", \"congratulation\", \"congrat\", \"prayer\", \"car\", \"spread\", \"attitude\", \"january\", \"cat\", \"holiday\", \"juice\", \"nausea\", \"pay\", \"dog\", \"golf\", \"worker\", \"hill\", \"inspiration\", \"cheer\", \"jim\", \"perspective\", \"make\", \"october\", \"speak\", \"december\", \"rocky\", \"related\", \"mountain\", \"claim\", \"mark\", \"great\", \"george\", \"bed\", \"happy\", \"wonderful\", \"good\", \"mike\", \"thank\", \"tough\", \"glad\", \"love\", \"hope\", \"luck\", \"hear\", \"day\", \"life\", \"thing\", \"wife\", \"year\", \"clear\", \"way\", \"jack\", \"time\", \"recovery\", \"positive\", \"month\", \"well\", \"little\"], \"Total\": [4238.0, 7340.0, 5645.0, 6420.0, 1146.0, 3461.0, 1533.0, 1271.0, 1339.0, 2478.0, 2363.0, 1722.0, 925.0, 1534.0, 2034.0, 1007.0, 1904.0, 1580.0, 1574.0, 1224.0, 565.0, 1514.0, 1037.0, 480.0, 2203.0, 485.0, 884.0, 464.0, 3298.0, 649.0, 1534.623779296875, 1224.47802734375, 571.3004150390625, 540.44140625, 461.42950439453125, 346.65301513671875, 252.9091796875, 242.4138641357422, 236.897216796875, 206.1054229736328, 204.4293670654297, 171.77976989746094, 165.17205810546875, 160.12234497070312, 158.4341583251953, 154.9188232421875, 144.55908203125, 139.52833557128906, 126.71503448486328, 125.57869720458984, 124.18647003173828, 122.43389892578125, 120.392578125, 110.3987045288086, 108.3106918334961, 106.36832427978516, 97.67315673828125, 96.22631072998047, 96.62803649902344, 94.84736633300781, 98.42585754394531, 1580.2314453125, 1000.1056518554688, 1574.59033203125, 1009.0345458984375, 695.3106079101562, 2363.92919921875, 2478.794921875, 2034.0562744140625, 368.00537109375, 6420.01513671875, 462.4459228515625, 785.4038696289062, 1214.383056640625, 503.1503601074219, 7340.267578125, 706.9180297851562, 326.38330078125, 346.7362365722656, 885.9431762695312, 625.3933715820312, 911.60693359375, 2563.44384765625, 610.5526733398438, 5645.46875, 3461.515869140625, 1775.4656982421875, 1510.11328125, 517.3453369140625, 2844.732666015625, 3298.2080078125, 2203.319091796875, 1101.73193359375, 1258.2523193359375, 4238.77294921875, 1440.9365234375, 512.2789916992188, 341.8406982421875, 225.606201171875, 217.24478149414062, 189.16244506835938, 190.47940063476562, 171.7813720703125, 159.22972106933594, 156.08895874023438, 146.6902313232422, 118.42581939697266, 115.88847351074219, 107.37350463867188, 98.73184204101562, 90.75529479980469, 87.96834564208984, 87.15216827392578, 84.22248077392578, 79.94233703613281, 79.96556091308594, 79.42289733886719, 76.9017333984375, 71.3745346069336, 69.91356658935547, 68.52198028564453, 66.5575180053711, 64.09156036376953, 63.67735290527344, 61.45071029663086, 61.188777923583984, 227.42324829101562, 366.5020446777344, 574.172119140625, 316.1541748046875, 176.90081787109375, 106.93292999267578, 547.6398315429688, 114.12227630615234, 1306.0675048828125, 715.035400390625, 138.40872192382812, 270.42938232421875, 179.87074279785156, 888.4320068359375, 849.193359375, 172.92335510253906, 1071.98046875, 383.4722900390625, 1065.6004638671875, 889.0653076171875, 753.8956909179688, 336.44744873046875, 3298.2080078125, 2203.319091796875, 1192.9176025390625, 724.3837280273438, 826.6796264648438, 1037.2293701171875, 800.4324340820312, 843.6310424804688, 1440.9365234375, 1105.54736328125, 5645.46875, 2844.732666015625, 1510.11328125, 1775.4656982421875, 707.2698364257812, 820.8602905273438, 7340.267578125, 1904.727294921875, 2563.44384765625, 1271.946533203125, 925.7393188476562, 497.59368896484375, 476.11309814453125, 468.52410888671875, 287.8378601074219, 175.57394409179688, 153.6754608154297, 152.34793090820312, 148.82861328125, 140.2749786376953, 122.60775756835938, 100.74764251708984, 100.32556915283203, 94.573974609375, 91.74105834960938, 89.446044921875, 85.8253173828125, 83.41462707519531, 81.8891372680664, 80.7690658569336, 77.36448669433594, 75.1780014038086, 74.01593780517578, 72.4917221069336, 72.11397552490234, 69.37797546386719, 67.33602142333984, 65.84732818603516, 65.62545776367188, 66.17586517333984, 4238.77294921875, 230.25823974609375, 113.94193267822266, 1007.1788330078125, 93.66226959228516, 415.0781555175781, 1722.7479248046875, 160.83016967773438, 1514.5162353515625, 743.9631958007812, 3461.515869140625, 469.2274169921875, 186.46144104003906, 609.5916137695312, 644.4447021484375, 567.5767822265625, 884.0723266601562, 675.9082641601562, 473.73431396484375, 659.53955078125, 2844.732666015625, 1904.727294921875, 1258.2523193359375, 827.7280883789062, 3298.2080078125, 898.7530517578125, 349.5076599121094, 475.8736877441406, 5645.46875, 2563.44384765625, 6420.01513671875, 485.1036071777344, 374.0091857910156, 226.153076171875, 217.8446807861328, 147.41567993164062, 118.20245361328125, 111.66004943847656, 102.16380310058594, 97.80217742919922, 96.0113525390625, 92.57467651367188, 80.46895599365234, 78.20388793945312, 78.06100463867188, 76.20355224609375, 73.65293884277344, 73.85784912109375, 72.9970932006836, 68.58226776123047, 67.3328628540039, 66.4840316772461, 65.44681549072266, 61.85419464111328, 59.93892288208008, 57.60175323486328, 57.083045959472656, 56.317203521728516, 51.738826751708984, 51.23247146606445, 51.056915283203125, 134.94366455078125, 425.5309143066406, 1533.991455078125, 492.80914306640625, 355.70184326171875, 285.1027526855469, 87.06568145751953, 294.7707824707031, 365.0428771972656, 113.85557556152344, 884.0723266601562, 165.06588745117188, 150.24005126953125, 687.1731567382812, 1020.9243774414062, 156.81968688964844, 239.77467346191406, 1904.727294921875, 567.5767822265625, 3298.2080078125, 599.1436157226562, 541.199951171875, 699.42724609375, 369.0215148925781, 1440.9365234375, 2203.319091796875, 381.1464538574219, 1101.73193359375, 2563.44384765625, 6420.01513671875, 437.2305908203125, 730.107666015625, 1722.7479248046875, 565.7669677734375, 480.8551330566406, 464.3022766113281, 265.38116455078125, 230.04127502441406, 224.93031311035156, 175.99072265625, 169.07595825195312, 167.64366149902344, 166.87548828125, 148.9635009765625, 118.45556640625, 117.88345336914062, 113.97917175292969, 106.31573486328125, 100.17559051513672, 95.77555847167969, 94.6380615234375, 93.45185089111328, 84.91705322265625, 81.69215393066406, 79.5018310546875, 73.87306213378906, 73.13034057617188, 69.15326690673828, 68.70059967041016, 67.93067169189453, 67.23970031738281, 66.50212097167969, 64.83894348144531, 273.710693359375, 386.1536865234375, 159.1716766357422, 1339.413818359375, 349.2959899902344, 427.4327697753906, 185.12171936035156, 145.2582550048828, 249.605224609375, 7340.267578125, 146.23509216308594, 165.55418395996094, 440.8875732421875, 767.0736694335938, 6420.01513671875, 826.6796264648438, 368.8456115722656, 1065.6004638671875, 3461.515869140625, 569.6505126953125, 561.272216796875, 1146.4212646484375, 322.0288391113281, 289.1195068359375, 250.69430541992188, 144.19190979003906, 134.67587280273438, 131.5106964111328, 106.78948974609375, 102.84246063232422, 96.3514175415039, 92.10470581054688, 86.7159423828125, 78.79962158203125, 78.82562255859375, 70.88480377197266, 68.8671875, 67.77159881591797, 57.1319465637207, 57.72785568237305, 55.010406494140625, 53.750282287597656, 53.278995513916016, 53.3454475402832, 52.58256530761719, 51.02277755737305, 50.33506393432617, 48.621986389160156, 46.7718620300293, 43.74691390991211, 42.62120819091797, 43.21227264404297, 271.7704772949219, 1271.946533203125, 393.52435302734375, 153.7612762451172, 649.422607421875, 353.1379089355469, 5645.46875, 857.47021484375, 1037.2293701171875, 142.00900268554688, 661.173828125, 257.83184814453125, 1105.54736328125, 922.7650146484375, 207.24024963378906, 1904.727294921875, 1071.98046875, 2203.319091796875, 335.6961669921875, 2844.732666015625, 488.6077880859375, 1192.9176025390625, 569.6505126953125, 3298.2080078125, 318.617919921875, 440.3127746582031, 1514.5162353515625, 843.2781982421875, 834.4797973632812], \"loglift\": [30.0, 29.0, 28.0, 27.0, 26.0, 25.0, 24.0, 23.0, 22.0, 21.0, 20.0, 19.0, 18.0, 17.0, 16.0, 15.0, 14.0, 13.0, 12.0, 11.0, 10.0, 9.0, 8.0, 7.0, 6.0, 5.0, 4.0, 3.0, 2.0, 1.0, 1.0795999765396118, 1.0794999599456787, 1.0786999464035034, 1.0786000490188599, 1.0782999992370605, 1.0778000354766846, 1.0769000053405762, 1.07669997215271, 1.07669997215271, 1.0760999917984009, 1.0759999752044678, 1.0752999782562256, 1.0751999616622925, 1.0750000476837158, 1.0749000310897827, 1.0748000144958496, 1.0743999481201172, 1.0741000175476074, 1.0735000371932983, 1.0735000371932983, 1.0735000371932983, 1.0734000205993652, 1.0733000040054321, 1.072700023651123, 1.0724999904632568, 1.0723999738693237, 1.0715999603271484, 1.0714999437332153, 1.0714999437332153, 1.0714000463485718, 1.0714000463485718, 1.039199948310852, 1.0440000295639038, 1.0312999486923218, 1.0259000062942505, 1.0313999652862549, 0.9907000064849854, 0.9865999817848206, 0.9789999723434448, 1.0397000312805176, 0.9160000085830688, 1.0110000371932983, 0.9799000024795532, 0.9537000060081482, 1.000100016593933, 0.8105000257492065, 0.9611999988555908, 1.0230000019073486, 1.0120999813079834, 0.8712000250816345, 0.9064000248908997, 0.8409000039100647, 0.6578999757766724, 0.878000020980835, 0.28040000796318054, 0.3833000063896179, 0.5404000282287598, 0.5788999795913696, 0.8938000202178955, 0.07559999823570251, -0.4120999872684479, -0.13989999890327454, 0.3490999937057495, 0.23569999635219574, -0.8327999711036682, 0.11509999632835388, 1.6252000331878662, 1.624400019645691, 1.6232000589370728, 1.6230000257492065, 1.622499942779541, 1.6224000453948975, 1.6220999956130981, 1.6217000484466553, 1.6216000318527222, 1.6212999820709229, 1.6197999715805054, 1.6196999549865723, 1.6191999912261963, 1.618499994277954, 1.617799997329712, 1.6174999475479126, 1.617400050163269, 1.6171000003814697, 1.6166000366210938, 1.6166000366210938, 1.6164000034332275, 1.6160000562667847, 1.6153000593185425, 1.614799976348877, 1.6145999431610107, 1.6141999959945679, 1.6139999628067017, 1.6133999824523926, 1.6132999658584595, 1.6132999658584595, 1.55649995803833, 1.5185999870300293, 1.4687000513076782, 1.4930000305175781, 1.5324000120162964, 1.5708999633789062, 1.3557000160217285, 1.5499999523162842, 1.1668000221252441, 1.2508000135421753, 1.5197999477386475, 1.3632999658584595, 1.448699951171875, 1.0709999799728394, 1.0532000064849854, 1.4470000267028809, 0.9574999809265137, 1.229699969291687, 0.9516000151634216, 0.989300012588501, 1.0292999744415283, 1.2621999979019165, 0.5595999956130981, 0.6452999711036682, 0.8328999876976013, 0.9869999885559082, 0.9352999925613403, 0.8356999754905701, 0.8917999863624573, 0.8586999773979187, 0.5153999924659729, 0.6225000023841858, -0.2671999931335449, 0.07769999653100967, 0.4259999990463257, 0.29510000348091125, 0.8450999855995178, 0.7372999787330627, -0.8651999831199646, 0.0731000006198883, -0.2782999873161316, 0.31700000166893005, 1.8108999729156494, 1.8100999593734741, 1.809999942779541, 1.809999942779541, 1.808899998664856, 1.8070000410079956, 1.806399941444397, 1.806399941444397, 1.8062000274658203, 1.805899977684021, 1.8049999475479126, 1.8035999536514282, 1.8035999536514282, 1.8030999898910522, 1.8027000427246094, 1.8026000261306763, 1.8020999431610107, 1.801800012588501, 1.8016999959945679, 1.8014999628067017, 1.8009999990463257, 1.8006999492645264, 1.8006000518798828, 1.8003000020980835, 1.8003000020980835, 1.7997000217437744, 1.799399971961975, 1.7992000579833984, 1.7991000413894653, 1.7990000247955322, 1.6518000364303589, 1.7582000494003296, 1.7783000469207764, 1.6893999576568604, 1.7803000211715698, 1.6710000038146973, 1.5130000114440918, 1.722000002861023, 1.32669997215271, 1.4326000213623047, 1.0333000421524048, 1.3624999523162842, 1.591599941253662, 1.268399953842163, 1.2151999473571777, 1.2483999729156494, 1.0861999988555908, 1.1693999767303467, 1.2511999607086182, 1.1282000541687012, 0.5174000263214111, 0.6550999879837036, 0.8050000071525574, 0.9598000049591064, 0.23319999873638153, 0.8328999876976013, 1.3319000005722046, 1.1140999794006348, -0.7825999855995178, -0.3398999869823456, -1.3144999742507935, 2.2488999366760254, 2.2483999729156494, 2.246999979019165, 2.246799945831299, 2.244999885559082, 2.2435998916625977, 2.243299961090088, 2.242500066757202, 2.2421998977661133, 2.2421000003814697, 2.24180006980896, 2.240299940109253, 2.2400999069213867, 2.2400999069213867, 2.239799976348877, 2.239500045776367, 2.239500045776367, 2.2393999099731445, 2.2383999824523926, 2.238300085067749, 2.238300085067749, 2.238100051879883, 2.237299919128418, 2.236799955368042, 2.236299991607666, 2.2362000942230225, 2.2358999252319336, 2.234800100326538, 2.234499931335449, 2.234499931335449, 2.1849000453948975, 2.010699987411499, 1.8555999994277954, 1.9730000495910645, 1.975000023841858, 1.927299976348877, 2.154599905014038, 1.8482999801635742, 1.754699945449829, 2.077899932861328, 1.4515000581741333, 1.9384000301361084, 1.9697999954223633, 1.4138000011444092, 1.2627999782562256, 1.9528000354766846, 1.7842999696731567, 0.8575999736785889, 1.3532999753952026, 0.26739999651908875, 1.1548999547958374, 1.1328999996185303, 0.9685999751091003, 1.3665000200271606, 0.44699999690055847, 0.133200004696846, 1.3255000114440918, 0.5303000211715698, -0.2854999899864197, -1.1973999738693237, 1.1095999479293823, 0.6328999996185303, -0.20659999549388885, 2.3101999759674072, 2.309999942779541, 2.3099000453948975, 2.3085999488830566, 2.3080999851226807, 2.308000087738037, 2.306999921798706, 2.30679988861084, 2.30679988861084, 2.30679988861084, 2.3060998916625977, 2.3046998977661133, 2.3046000003814697, 2.30430006980896, 2.3039000034332275, 2.303499937057495, 2.303100109100342, 2.302999973297119, 2.302799940109253, 2.301800012588501, 2.3015999794006348, 2.301300048828125, 2.30049991607666, 2.300299882888794, 2.2997000217437744, 2.2994000911712646, 2.2994000911712646, 2.2994000911712646, 2.2992000579833984, 2.2985999584198, 2.152400016784668, 2.0820000171661377, 2.134999990463257, 1.680799961090088, 1.9067000150680542, 1.8257999420166016, 2.0143001079559326, 2.0871999263763428, 1.906999945640564, 0.4377000033855438, 2.052799940109253, 1.993299961090088, 1.4681999683380127, 1.1615999937057495, -0.27000001072883606, 0.9570000171661377, 1.4674999713897705, 0.43070000410079956, -0.8442000150680542, 0.8046000003814697, 0.8131999969482422, 2.3417000770568848, 2.339900016784668, 2.339600086212158, 2.339200019836426, 2.3368000984191895, 2.3362998962402344, 2.336199998855591, 2.3345000743865967, 2.334399938583374, 2.333699941635132, 2.3334999084472656, 2.3329999446868896, 2.3320000171661377, 2.331899881362915, 2.3306000232696533, 2.3304998874664307, 2.3303000926971436, 2.327899932861328, 2.327899932861328, 2.327500104904175, 2.327199935913086, 2.326900005340576, 2.3268001079559326, 2.3264999389648438, 2.3261001110076904, 2.325700044631958, 2.3252999782562256, 2.3248000144958496, 2.323199987411499, 2.322999954223633, 2.322499990463257, 2.210599899291992, 1.8909000158309937, 1.9169000387191772, 2.084399938583374, 1.7030999660491943, 1.8545000553131104, 1.1412999629974365, 1.5591000318527222, 1.5047999620437622, 2.0571000576019287, 1.5542999505996704, 1.7773000001907349, 1.2148000001907349, 1.2487000226974487, 1.8489999771118164, 0.8529000282287598, 1.051300048828125, 0.6801999807357788, 1.565500020980835, 0.3370000123977661, 1.2935999631881714, 0.723800003528595, 1.1962000131607056, -0.09709999710321426, 1.5062999725341797, 1.2431000471115112, 0.23399999737739563, 0.6597999930381775, 0.6233000159263611], \"logprob\": [30.0, 29.0, 28.0, 27.0, 26.0, 25.0, 24.0, 23.0, 22.0, 21.0, 20.0, 19.0, 18.0, 17.0, 16.0, 15.0, 14.0, 13.0, 12.0, 11.0, 10.0, 9.0, 8.0, 7.0, 6.0, 5.0, 4.0, 3.0, 2.0, 1.0, -4.299600124359131, -4.5254998207092285, -5.288700103759766, -5.344299793243408, -5.502600193023682, -5.7891998291015625, -6.105400085449219, -6.147900104522705, -6.171000003814697, -6.310699939727783, -6.318999767303467, -6.49370002746582, -6.533100128173828, -6.5644001960754395, -6.574999809265137, -6.597599983215332, -6.667200088500977, -6.702899932861328, -6.799799919128418, -6.808800220489502, -6.820000171661377, -6.8343000411987305, -6.851200103759766, -6.938499927520752, -6.957799911499023, -6.97599983215332, -7.062099933624268, -7.077000141143799, -7.07289981842041, -7.091599941253662, -7.054599761962891, -4.310699939727783, -4.763400077819824, -4.322199821472168, -4.772600173950195, -5.139500141143799, -3.9565000534057617, -3.9131999015808105, -4.1184000968933105, -5.767399787902832, -3.032099962234497, -5.567800045013428, -5.0690999031066895, -4.6595001220703125, -5.49429988861084, -3.0035998821258545, -5.1930999755859375, -5.904200077056885, -5.854599952697754, -5.057400226593018, -5.370500087738037, -5.059100151062012, -4.208199977874756, -5.422900199890137, -3.796299934387207, -4.182499885559082, -4.692999839782715, -4.816400051116943, -5.572800159454346, -4.686399936676025, -5.026199817657471, -5.157400131225586, -5.361499786376953, -5.342100143432617, -5.196100234985352, -5.327099800109863, -4.851200103759766, -5.256499767303467, -5.673299789428711, -5.711299896240234, -5.850200176239014, -5.843299865722656, -5.947000026702881, -6.023200035095215, -6.043300151824951, -6.1057000160217285, -6.321199893951416, -6.3429999351501465, -6.4197998046875, -6.504300117492676, -6.589300155639648, -6.620800018310547, -6.630199909210205, -6.664700031280518, -6.717400074005127, -6.717100143432617, -6.724100112915039, -6.756800174713135, -6.831999778747559, -6.8531999588012695, -6.873499870300293, -6.9029998779296875, -6.940999984741211, -6.947999954223633, -6.983699798583984, -6.98799991607666, -5.73199987411499, -5.292699813842773, -4.893599987030029, -5.466100215911865, -6.007299900054932, -6.472099781036377, -5.053999900817871, -6.427999973297119, -4.373700141906738, -4.892099857330322, -6.265200138092041, -5.751999855041504, -6.0742998123168945, -4.854800224304199, -4.917799949645996, -6.1153998374938965, -4.780600070953369, -5.536300182342529, -4.792300224304199, -4.935800075531006, -5.060699939727783, -5.6346001625061035, -4.054500102996826, -4.372300148010254, -4.7982001304626465, -5.14300012588501, -5.062600135803223, -4.935299873352051, -5.138400077819824, -5.118899822235107, -4.926799774169922, -5.084700107574463, -4.343900203704834, -4.684299945831299, -4.969399929046631, -4.938300132751465, -5.308800220489502, -5.267600059509277, -4.6793999671936035, -5.090099811553955, -5.144499778747559, -5.249899864196777, -4.073800086975098, -4.695400238037109, -4.73960018157959, -4.75570011138916, -5.24399995803833, -5.740200042724609, -5.874000072479248, -5.882699966430664, -5.906199932098389, -5.965799808502197, -6.10129976272583, -6.299099922180176, -6.303299903869629, -6.362800121307373, -6.393599987030029, -6.419099807739258, -6.4608001708984375, -6.48960018157959, -6.508200168609619, -6.522200107574463, -6.565700054168701, -6.594699859619141, -6.610400199890137, -6.631499767303467, -6.6367998123168945, -6.676000118255615, -6.706200122833252, -6.728799819946289, -6.7322001457214355, -6.723899841308594, -2.711400032043457, -5.517899990081787, -6.201300144195557, -4.111000061035156, -6.395299911499023, -5.0157999992370605, -3.7506000995635986, -5.912899971008301, -4.065700054168701, -4.6707000732421875, -3.5325000286102295, -5.201700210571289, -5.895400047302246, -5.03410005569458, -5.031599998474121, -5.125500202178955, -4.8445000648498535, -5.029799938201904, -5.303400039672852, -5.095600128173828, -4.24459981918335, -4.5081000328063965, -4.77269983291626, -5.036799907684326, -4.38100004196167, -5.081299781799316, -5.526800155639648, -5.435999870300293, -4.859300136566162, -5.205999851226807, -5.262599945068359, -4.2820000648498535, -4.542600154876709, -5.047100067138672, -5.084700107574463, -5.4770002365112305, -5.69920015335083, -5.7565999031066895, -5.846199989318848, -5.890100002288818, -5.908699989318848, -5.945499897003174, -6.087100028991699, -6.115799903869629, -6.117700099945068, -6.142000198364258, -6.176400184631348, -6.173699855804443, -6.185500144958496, -6.248799800872803, -6.267399787902832, -6.280099868774414, -6.296000003814697, -6.3531999588012695, -6.3850998878479, -6.4253997802734375, -6.434599876403809, -6.448400020599365, -6.534299850463867, -6.544400215148926, -6.547900199890137, -5.625500202178955, -4.651299953460693, -3.5241000652313232, -4.542099952697754, -4.866199970245361, -5.1350998878479, -6.093999862670898, -5.180699825286865, -5.060500144958496, -5.902400016784668, -4.4791998863220215, -5.670499801635742, -5.73330020904541, -4.768899917602539, -4.52400016784668, -5.707399845123291, -5.451300144195557, -4.305600166320801, -5.020599842071533, -4.346700191497803, -5.164899826049805, -5.288599967956543, -5.196400165557861, -5.437900066375732, -4.995200157165527, -4.884300231933594, -5.446599960327148, -5.180300235748291, -5.151700019836426, -5.145500183105469, -5.525199890136719, -5.489099979400635, -5.470200061798096, -4.066800117492676, -4.229700088500977, -4.264800071716309, -4.825500011444092, -4.968900203704834, -4.991399765014648, -5.237800121307373, -5.27810001373291, -5.286600112915039, -5.291299819946289, -5.4054999351501465, -5.636000156402588, -5.640999794006348, -5.675000190734863, -5.744900226593018, -5.804900169372559, -5.850200176239014, -5.862199783325195, -5.875, -5.971799850463867, -6.010700225830078, -6.0381999015808105, -6.112400054931641, -6.122700214385986, -6.179200172424316, -6.186100006103516, -6.197400093078613, -6.207699775695801, -6.218800067901611, -6.244699954986572, -4.950799942016602, -4.67710018157959, -5.510200023651123, -3.8345000743865967, -4.952600002288818, -4.831699848175049, -5.480000019073486, -5.649600028991699, -5.288400173187256, -3.376499891281128, -5.677199840545654, -5.612599849700928, -5.158299922943115, -4.911099910736084, -4.218100070953369, -5.040900230407715, -5.337399959564209, -5.313300132751465, -5.409999847412109, -5.5655999183654785, -5.571899890899658, -3.329200029373169, -4.600800037384033, -4.708899974822998, -4.851900100708008, -5.407400131225586, -5.476099967956543, -5.5, -5.70989990234375, -5.747600078582764, -5.813499927520752, -5.85890007019043, -5.9197001457214355, -6.01639986038208, -6.01609992980957, -6.123600006103516, -6.152599811553955, -6.168799877166748, -6.3420000076293945, -6.331699848175049, -6.380199909210205, -6.403800010681152, -6.412799835205078, -6.4116997718811035, -6.426400184631348, -6.456900119781494, -6.470900058746338, -6.505899906158447, -6.545199871063232, -6.61359977722168, -6.639900207519531, -6.6265997886657715, -4.899700164794922, -3.6760001182556152, -4.823200225830078, -5.5954999923706055, -4.536099910736084, -4.993899822235107, -2.9354000091552734, -4.402200222015381, -4.26609992980957, -5.702300071716309, -4.666999816894531, -5.385700225830078, -4.492300033569336, -4.639200210571289, -5.532299995422363, -4.310299873352051, -4.686699867248535, -4.337399959564209, -5.333600044250488, -4.425099849700928, -5.230100154876709, -4.907299995422363, -5.173999786376953, -4.71120023727417, -5.444900035858154, -5.384699821472168, -5.1585001945495605, -5.3180999755859375, -5.365200042724609]}, \"token.table\": {\"Topic\": [4, 3, 1, 2, 2, 1, 3, 3, 3, 4, 3, 5, 6, 1, 2, 3, 6, 6, 1, 3, 2, 3, 6, 1, 2, 2, 3, 1, 3, 4, 5, 2, 1, 3, 4, 5, 4, 2, 2, 1, 2, 5, 6, 1, 2, 4, 5, 2, 1, 2, 3, 4, 5, 6, 3, 4, 4, 4, 1, 5, 1, 5, 6, 1, 2, 3, 4, 3, 3, 6, 1, 3, 6, 5, 4, 5, 1, 4, 5, 4, 4, 2, 6, 6, 5, 4, 5, 5, 3, 2, 1, 5, 5, 3, 1, 3, 1, 1, 2, 2, 3, 4, 6, 6, 2, 2, 1, 2, 3, 4, 4, 1, 3, 4, 6, 1, 2, 3, 4, 6, 3, 3, 3, 4, 5, 3, 5, 2, 5, 2, 3, 1, 1, 2, 3, 1, 3, 1, 2, 3, 4, 6, 3, 3, 3, 2, 3, 4, 6, 3, 1, 2, 3, 5, 3, 1, 2, 6, 1, 2, 2, 6, 1, 2, 3, 6, 6, 1, 2, 3, 4, 6, 1, 1, 2, 6, 4, 4, 1, 2, 6, 1, 2, 3, 4, 1, 2, 4, 5, 6, 1, 2, 6, 2, 1, 2, 4, 5, 1, 3, 5, 6, 6, 1, 2, 3, 5, 6, 2, 1, 2, 4, 2, 3, 4, 5, 1, 2, 3, 4, 3, 5, 4, 5, 4, 3, 1, 3, 4, 1, 2, 5, 6, 3, 5, 1, 4, 1, 2, 5, 6, 3, 4, 5, 1, 5, 1, 2, 3, 4, 5, 1, 3, 5, 6, 6, 6, 2, 6, 1, 4, 5, 2, 3, 4, 4, 1, 3, 1, 2, 4, 6, 1, 5, 4, 1, 2, 3, 4, 6, 2, 1, 2, 3, 4, 6, 1, 2, 3, 4, 2, 6, 1, 3, 5, 1, 2, 3, 4, 6, 1, 3, 6, 2, 4, 1, 2, 3, 4, 5, 6, 3, 3, 6, 4, 2, 2, 1, 5, 3, 1, 2, 3, 6, 1, 3, 1, 3, 4, 6, 1, 2, 6, 1, 2, 3, 4, 6, 4, 1, 3, 4, 6, 5, 6, 2, 4, 4, 4, 2, 4, 1, 2, 3, 4, 5, 6, 6, 1, 2, 3, 6, 2, 4, 6, 5, 2, 1, 1, 5, 1, 2, 3, 4, 6, 3, 4, 6, 1, 1, 1, 4, 5, 5, 1, 2, 3, 4, 5, 6, 4, 1, 5, 2, 3, 4, 1, 2, 1, 6, 1, 1, 1, 2, 5, 6, 1, 2, 3, 4, 5, 6, 2, 3, 6, 5, 4, 1, 2, 3, 6, 1, 2, 3, 6, 4, 6, 5, 1, 2, 3, 4, 1, 3, 4, 2, 3, 1, 4, 1, 2, 4, 5, 1, 3, 1, 4, 5, 2, 4, 6, 5, 6, 1, 6, 1, 2, 5, 1, 5, 1, 2, 4, 6, 1, 3, 4, 5, 6, 2, 3, 2, 3, 1, 3, 1, 1, 3, 2, 5, 1, 3, 3, 1, 2, 2, 3, 1, 2, 5, 6, 4, 6, 1, 3, 1, 2, 4, 2, 1, 2, 3, 6, 6, 6, 1, 1, 4, 4, 2, 3, 3, 1, 3, 5, 2, 1, 2, 3, 4, 6, 1, 4, 1, 2, 4, 1, 2, 6, 1, 3, 1, 2, 3, 4, 5, 4, 1, 3, 2, 3, 6, 3, 5, 1, 2, 3, 4, 6, 5, 1, 2, 3, 4, 6, 1, 3, 1, 6, 1, 2, 1, 1, 1, 3, 5, 5, 2, 5, 1, 3, 1, 3, 3, 1, 3, 1, 3, 1, 1, 3, 1, 1, 2, 3, 4, 5, 5, 5, 5, 4, 4, 3, 4, 1, 2, 3, 4, 6, 1, 5, 1, 2, 5, 1, 3, 4, 6, 1, 2, 3, 4, 6, 2, 6, 2, 2, 3, 1, 2, 4, 5, 2, 6, 1, 2, 6, 6, 5, 1, 2, 3, 4, 6, 1, 2, 2], \"Freq\": [0.9766110181808472, 0.9871319532394409, 0.9964560270309448, 0.9829687476158142, 0.9974831938743591, 0.9145789742469788, 0.08545095473527908, 0.9903837442398071, 0.8044558763504028, 0.19306941330432892, 0.9919222593307495, 0.9982216358184814, 0.9918082356452942, 0.17638643085956573, 0.23437649011611938, 0.42646855115890503, 0.16309703886508942, 0.9968051314353943, 0.147684246301651, 0.8521333932876587, 0.058532293885946274, 0.16258969902992249, 0.7739269733428955, 0.9977237582206726, 0.9889920949935913, 0.42851021885871887, 0.5699397325515747, 0.8485961556434631, 0.04392512887716293, 0.03177562728524208, 0.07570075243711472, 0.9867798089981079, 0.5051442980766296, 0.3760766088962555, 0.11794118583202362, 0.9951648712158203, 0.986407995223999, 0.9964043498039246, 0.9879252910614014, 0.763732373714447, 0.08269453048706055, 0.1535366326570511, 0.9961166977882385, 0.2943970263004303, 0.5628871321678162, 0.06476734578609467, 0.07654322683811188, 0.9925875663757324, 0.7876201868057251, 0.039490703493356705, 0.10530854761600494, 0.06252694875001907, 0.0043878559954464436, 0.9880059957504272, 0.05928399786353111, 0.933722972869873, 0.9977250099182129, 0.9950564503669739, 0.8410706520080566, 0.15830036997795105, 0.8172922730445862, 0.18180249631404877, 0.9860413074493408, 0.2559518814086914, 0.2026902288198471, 0.5266987085342407, 0.013315416872501373, 0.993216872215271, 0.9952887296676636, 0.971946120262146, 0.24354912340641022, 0.4052329957485199, 0.3499739468097687, 0.9958639740943909, 0.9861901998519897, 0.9971951842308044, 0.09984022378921509, 0.7521296739578247, 0.1464323252439499, 0.993172824382782, 0.9917979836463928, 0.980571985244751, 0.9917338490486145, 0.9972304701805115, 0.9936878085136414, 0.9863406419754028, 0.98454350233078, 0.9892005920410156, 0.9925790429115295, 0.9930234551429749, 0.9341632723808289, 0.06487245112657547, 0.9935319423675537, 0.9976621270179749, 0.8292333483695984, 0.16816620528697968, 0.9962126612663269, 0.12335753440856934, 0.8761547803878784, 0.2115788459777832, 0.314480721950531, 0.2483295053243637, 0.22522909939289093, 0.9872077107429504, 0.9882122874259949, 0.9893627166748047, 0.9474403262138367, 0.05252545699477196, 0.9654040336608887, 0.026329200714826584, 0.9973016977310181, 0.38035303354263306, 0.4980313181877136, 0.04202795773744583, 0.07775172591209412, 0.6557584404945374, 0.14862817525863647, 0.11624986678361893, 0.07919034361839294, 0.9874078035354614, 0.9950132369995117, 0.9988813400268555, 0.2233063131570816, 0.10879025608301163, 0.6670560240745544, 0.9992013573646545, 0.9898021221160889, 0.9926654696464539, 0.9936362504959106, 0.02135331556200981, 0.9715758562088013, 0.9965372681617737, 0.9953917860984802, 0.9975033402442932, 0.9944324493408203, 0.996213436126709, 0.9967548847198486, 0.4299614429473877, 0.12159723043441772, 0.36558645963668823, 0.059606485068798065, 0.023842595517635345, 0.9950097799301147, 0.9862740635871887, 0.9904782176017761, 0.0063767503015697, 0.12115825712680817, 0.7397030591964722, 0.13391175866127014, 0.9822311997413635, 0.43071094155311584, 0.527344822883606, 0.015185321681201458, 0.026229191571474075, 0.9843304753303528, 0.040057674050331116, 0.8534026145935059, 0.1062399223446846, 0.9931080937385559, 0.9916777014732361, 0.3455948829650879, 0.6530726552009583, 0.05898600071668625, 0.3735780119895935, 0.11192215234041214, 0.45525091886520386, 0.9886147379875183, 0.44938695430755615, 0.15038609504699707, 0.07475021481513977, 0.02444438263773918, 0.30077219009399414, 0.9995935559272766, 0.09277119487524033, 0.2696654200553894, 0.6368192434310913, 0.9792992472648621, 0.9898271560668945, 0.006159317679703236, 0.46502846479415894, 0.5281614661216736, 0.17238947749137878, 0.6955024003982544, 0.09808366745710373, 0.03566678985953331, 0.09299422800540924, 0.18825660645961761, 0.2721782326698303, 0.4309488534927368, 0.01587706431746483, 0.188187375664711, 0.19783802330493927, 0.6128153204917908, 0.9922770857810974, 0.17201945185661316, 0.6866793036460876, 0.10628844052553177, 0.033564772456884384, 0.8811058402061462, 0.058465901762247086, 0.06011282652616501, 0.9873915910720825, 0.991743803024292, 0.16010168194770813, 0.36633437871932983, 0.13387033343315125, 0.015376998111605644, 0.323821485042572, 0.9952946305274963, 0.2925027012825012, 0.27358460426330566, 0.43366071581840515, 0.02290439046919346, 0.5690860152244568, 0.40699338912963867, 0.9947536587715149, 0.3473122715950012, 0.4797406792640686, 0.17240680754184723, 0.9911349415779114, 0.9467630982398987, 0.047772448509931564, 0.9927195906639099, 0.9919023513793945, 0.9971802234649658, 0.9939309358596802, 0.10016465187072754, 0.63721764087677, 0.26213303208351135, 0.354594349861145, 0.3285212516784668, 0.31678834557533264, 0.9816324710845947, 0.9909108877182007, 0.9881815910339355, 0.32906925678253174, 0.6683158874511719, 0.0641012191772461, 0.1442277431488037, 0.6690565347671509, 0.1241961196064949, 0.9891421794891357, 0.9940887689590454, 0.9932578802108765, 0.9520924687385559, 0.04602259770035744, 0.4660956561565399, 0.09865214675664902, 0.09007369726896286, 0.27736979722976685, 0.06862758100032806, 0.22996556758880615, 0.22996556758880615, 0.2211882472038269, 0.31773868203163147, 0.9963527321815491, 0.975994348526001, 0.9954513311386108, 0.9898524880409241, 0.6792754530906677, 0.3201971650123596, 0.991409182548523, 0.29705771803855896, 0.6841736435890198, 0.017473982647061348, 0.9886084794998169, 0.9910659790039062, 0.9950430989265442, 0.1856377124786377, 0.5121362209320068, 0.027052732184529305, 0.2751915752887726, 0.9929907321929932, 0.9985637068748474, 0.994172215461731, 0.1977279782295227, 0.2852076292037964, 0.21570324897766113, 0.12223184108734131, 0.17975270748138428, 0.9882742166519165, 0.313652366399765, 0.26297491788864136, 0.19860084354877472, 0.19860084354877472, 0.026023559272289276, 0.3810022175312042, 0.32895272970199585, 0.12491875886917114, 0.16447636485099792, 0.4305131435394287, 0.5701390504837036, 0.8115644454956055, 0.153508722782135, 0.033862218260765076, 0.44214940071105957, 0.0628545731306076, 0.1452157348394394, 0.014088093303143978, 0.33486315608024597, 0.996132493019104, 0.998806893825531, 0.9889209270477295, 0.3889954090118408, 0.6081477403640747, 0.5829456448554993, 0.2641560435295105, 0.03492041677236557, 0.034357182681560516, 0.03323071822524071, 0.05069092661142349, 0.9904692769050598, 0.12142599374055862, 0.8757389783859253, 0.9843353629112244, 0.9973130226135254, 0.9916235208511353, 0.22566403448581696, 0.7727283239364624, 0.994551956653595, 0.16093853116035461, 0.2635660171508789, 0.11778834462165833, 0.45715874433517456, 0.13009598851203918, 0.8697157502174377, 0.23109689354896545, 0.6153780221939087, 0.03169328719377518, 0.12149094045162201, 0.229265034198761, 0.7691472172737122, 0.9854248762130737, 0.1837296038866043, 0.46347275376319885, 0.17424678802490234, 0.12920339405536652, 0.04978479817509651, 0.9857200980186462, 0.9221895337104797, 0.013912342488765717, 0.06161180138587952, 0.9961279034614563, 0.9876242876052856, 0.9895259737968445, 0.992382287979126, 0.9894663095474243, 0.981026828289032, 0.9949013590812683, 0.14931197464466095, 0.8431734442710876, 0.1454578936100006, 0.5086334347724915, 0.061936911195516586, 0.0807056725025177, 0.15202696621418, 0.04973721504211426, 0.9996325373649597, 0.1576857715845108, 0.1758802831172943, 0.5048977136611938, 0.1607181876897812, 0.9938547611236572, 0.7872518301010132, 0.21150049567222595, 0.9882646799087524, 0.9869329333305359, 0.99406898021698, 0.9344278573989868, 0.06344880908727646, 0.19527871906757355, 0.1151643767952919, 0.30877405405044556, 0.3338097929954529, 0.04506431892514229, 0.23896418511867523, 0.7590627074241638, 0.9799544811248779, 0.9978996515274048, 0.9996095895767212, 0.6948500275611877, 0.08195666968822479, 0.2227083295583725, 0.9961605668067932, 0.329435795545578, 0.4580995440483093, 0.09614434838294983, 0.048072174191474915, 0.012724988162517548, 0.05514161288738251, 0.9846057891845703, 0.1461397111415863, 0.8512637615203857, 0.06560549139976501, 0.4841232895851135, 0.45018941164016724, 0.9964051246643066, 0.9854850769042969, 0.9592251181602478, 0.03804292157292366, 0.994636595249176, 0.9991832375526428, 0.39793527126312256, 0.06943336129188538, 0.5323224067687988, 0.9875177145004272, 0.2388850450515747, 0.6309015154838562, 0.04057983309030533, 0.05359600484371185, 0.02909497357904911, 0.006890914868563414, 0.9321826100349426, 0.06595631688833237, 0.9935243129730225, 0.9915273189544678, 0.9842060804367065, 0.5655071139335632, 0.02044001594185829, 0.07948894798755646, 0.3338536024093628, 0.2183622419834137, 0.5740450620651245, 0.07653933763504028, 0.13056710362434387, 0.9961225390434265, 0.9949814677238464, 0.9862996935844421, 0.27034324407577515, 0.13811013102531433, 0.21842950582504272, 0.3722116947174072, 0.6042129397392273, 0.06836660206317902, 0.3270510137081146, 0.9288282990455627, 0.07010024785995483, 0.600818932056427, 0.3961731791496277, 0.605914831161499, 0.30063968896865845, 0.07747763395309448, 0.01589284837245941, 0.9982927441596985, 0.997089147567749, 0.9954606294631958, 0.9073609709739685, 0.08039907366037369, 0.1883133202791214, 0.3766266405582428, 0.43312063813209534, 0.9870611429214478, 0.9829264879226685, 0.9052667617797852, 0.09421904385089874, 0.04913053289055824, 0.3345555365085602, 0.6153014302253723, 0.9972596764564514, 0.9815629720687866, 0.4531830847263336, 0.41054490208625793, 0.05969347059726715, 0.0755305141210556, 0.3334728479385376, 0.16538085043430328, 0.07049019634723663, 0.43107467889785767, 0.9834973216056824, 0.8394917249679565, 0.16122688353061676, 0.7632753849029541, 0.23555627465248108, 0.08083060383796692, 0.9140076041221619, 0.9981162548065186, 0.9105230569839478, 0.08915622532367706, 0.15706311166286469, 0.8355758190155029, 0.9526287317276001, 0.0469963513314724, 0.9956046342849731, 0.08479327708482742, 0.9101145267486572, 0.1141803190112114, 0.8846492767333984, 0.1971743255853653, 0.5007985830307007, 0.2576572597026825, 0.04354770481586456, 0.7330406308174133, 0.26656022667884827, 0.9963884949684143, 0.9845525622367859, 0.37803637981414795, 0.5504740476608276, 0.07030150294303894, 0.9965214729309082, 0.3925471007823944, 0.5286450982093811, 0.007873437367379665, 0.07086093723773956, 0.9734764695167542, 0.992607057094574, 0.9990692138671875, 0.9878987669944763, 0.9895532131195068, 0.9937922954559326, 0.9445172548294067, 0.04675828292965889, 0.9967310428619385, 0.165737122297287, 0.03884463757276535, 0.7950202226638794, 0.9975406527519226, 0.48106077313423157, 0.1869783252477646, 0.10075046122074127, 0.17880937457084656, 0.05173672363162041, 0.24147279560565948, 0.756885290145874, 0.18904928863048553, 0.1368977576494217, 0.6734066009521484, 0.9872559905052185, 0.8958972692489624, 0.09392471611499786, 0.41831284761428833, 0.5807166695594788, 0.22603224217891693, 0.06580685824155807, 0.6180121898651123, 0.01716700568795204, 0.07439035922288895, 0.9883851408958435, 0.888363242149353, 0.1117527037858963, 0.45313024520874023, 0.11376461386680603, 0.43288400769233704, 0.25388699769973755, 0.740053653717041, 0.29500946402549744, 0.37488895654678345, 0.019969871267676353, 0.12027309089899063, 0.18971377611160278, 0.9925057291984558, 0.22497065365314484, 0.34382307529449463, 0.20617257058620453, 0.1376505047082901, 0.08732014149427414, 0.9436757564544678, 0.0520859993994236, 0.24646325409412384, 0.7534733414649963, 0.9967392086982727, 0.9946753978729248, 0.9904460310935974, 0.992904007434845, 0.49804770946502686, 0.45904743671417236, 0.042466942220926285, 0.9954735040664673, 0.9923333525657654, 0.9924495220184326, 0.9599859714508057, 0.0398675762116909, 0.9648980498313904, 0.03499630093574524, 0.9950293302536011, 0.9956732988357544, 0.9977161884307861, 0.4484480917453766, 0.5508618354797363, 0.9935004711151123, 0.9036131501197815, 0.09586755186319351, 0.994357168674469, 0.07858620584011078, 0.06503685563802719, 0.16530200839042664, 0.4119001030921936, 0.2764066457748413, 0.9833230376243591, 0.9961541295051575, 0.9943705797195435, 0.9759435653686523, 0.9915099143981934, 0.37118181586265564, 0.6255873441696167, 0.23220379650592804, 0.4518333971500397, 0.057841379195451736, 0.05951794236898422, 0.19783428311347961, 0.2657740116119385, 0.7248381972312927, 0.048190031200647354, 0.1514543890953064, 0.7985776662826538, 0.11493265628814697, 0.7418380975723267, 0.08590926229953766, 0.057466328144073486, 0.2798601984977722, 0.34152430295944214, 0.154160276055336, 0.037947144359350204, 0.18617817759513855, 0.5391780138015747, 0.4587481617927551, 0.9947525262832642, 0.8976757526397705, 0.10095441341400146, 0.08067266643047333, 0.14030028879642487, 0.7225465178489685, 0.052612610161304474, 0.38511866331100464, 0.614490807056427, 0.1799347698688507, 0.6727995872497559, 0.14603401720523834, 0.980187177658081, 0.9986443519592285, 0.36629101634025574, 0.21232223510742188, 0.2741909623146057, 0.012654967606067657, 0.13463479280471802, 0.1619214415550232, 0.8327388763427734, 0.9942701458930969], \"Term\": [\"advance\", \"afternoon\", \"aggressive\", \"amazing\", \"ann\", \"anne\", \"anne\", \"annual\", \"antibiotic\", \"antibiotic\", \"arthritis\", \"article\", \"attitude\", \"bad\", \"bad\", \"bad\", \"bad\", \"bag\", \"bcg\", \"bcg\", \"bed\", \"bed\", \"bed\", \"biopsy\", \"birthday\", \"bit\", \"bit\", \"bladder\", \"bladder\", \"bladder\", \"bladder\", \"blog\", \"blood\", \"blood\", \"blood\", \"blue\", \"bowel\", \"breast\", \"brother\", \"cancer\", \"cancer\", \"cancer\", \"car\", \"care\", \"care\", \"care\", \"care\", \"caregiver\", \"case\", \"case\", \"case\", \"case\", \"case\", \"cat\", \"cath\", \"cath\", \"catheter\", \"catheterization\", \"cell\", \"cell\", \"center\", \"center\", \"cheer\", \"chemo\", \"chemo\", \"chemo\", \"chemo\", \"christmas\", \"cisplatin\", \"claim\", \"clear\", \"clear\", \"clear\", \"clinical\", \"coffee\", \"com\", \"complication\", \"complication\", \"complication\", \"condom\", \"conduit\", \"confidence\", \"congrat\", \"congratulation\", \"content\", \"continence\", \"cost\", \"culture\", \"cycle\", \"cynthia\", \"cystectomy\", \"cystectomy\", \"cystitis\", \"cysto\", \"cystoscopy\", \"cystoscopy\", \"cytology\", \"dad\", \"dad\", \"day\", \"day\", \"day\", \"day\", \"december\", \"depression\", \"device\", \"diagnosis\", \"diagnosis\", \"discomfort\", \"discomfort\", \"diversion\", \"doc\", \"doc\", \"doc\", \"doc\", \"doctor\", \"doctor\", \"doctor\", \"doctor\", \"dog\", \"dosage\", \"dose\", \"drug\", \"drug\", \"drug\", \"effect\", \"effectiveness\", \"elaine\", \"email\", \"empty\", \"empty\", \"expertise\", \"false\", \"family\", \"fatigue\", \"fear\", \"fever\", \"first\", \"first\", \"first\", \"first\", \"first\", \"flow\", \"flu\", \"fluid\", \"food\", \"food\", \"food\", \"food\", \"foot\", \"forum\", \"forum\", \"forum\", \"forum\", \"frequency\", \"friend\", \"friend\", \"friend\", \"function\", \"funny\", \"george\", \"george\", \"glad\", \"glad\", \"glad\", \"glad\", \"golf\", \"good\", \"good\", \"good\", \"good\", \"good\", \"grade\", \"great\", \"great\", \"great\", \"green\", \"hair\", \"happy\", \"happy\", \"happy\", \"hard\", \"hard\", \"hard\", \"hard\", \"health\", \"health\", \"health\", \"health\", \"health\", \"hear\", \"hear\", \"hear\", \"heart\", \"help\", \"help\", \"help\", \"help\", \"high\", \"high\", \"high\", \"hill\", \"holiday\", \"hope\", \"hope\", \"hope\", \"hope\", \"hope\", \"hospice\", \"hospital\", \"hospital\", \"hospital\", \"hour\", \"hour\", \"hour\", \"html\", \"husband\", \"husband\", \"husband\", \"ileal\", \"immune\", \"immune\", \"incontinence\", \"index\", \"indiana\", \"induction\", \"infection\", \"infection\", \"infection\", \"information\", \"information\", \"information\", \"inspiration\", \"instillation\", \"institute\", \"insurance\", \"insurance\", \"interesting\", \"interesting\", \"interesting\", \"interesting\", \"interferon\", \"intestine\", \"intravesical\", \"invasive\", \"invasive\", \"issue\", \"issue\", \"issue\", \"issue\", \"issue\", \"jack\", \"jack\", \"jack\", \"jack\", \"january\", \"jim\", \"journey\", \"juice\", \"kidney\", \"kidney\", \"lab\", \"last\", \"last\", \"last\", \"law\", \"layer\", \"leigh\", \"life\", \"life\", \"life\", \"life\", \"lining\", \"link\", \"liquid\", \"little\", \"little\", \"little\", \"little\", \"little\", \"liver\", \"long\", \"long\", \"long\", \"long\", \"long\", \"lot\", \"lot\", \"lot\", \"lot\", \"love\", \"love\", \"low\", \"low\", \"low\", \"luck\", \"luck\", \"luck\", \"luck\", \"luck\", \"lymph\", \"maintenance\", \"make\", \"man\", \"man\", \"many\", \"many\", \"many\", \"many\", \"many\", \"many\", \"march\", \"mark\", \"mark\", \"medicare\", \"member\", \"memorial\", \"message\", \"message\", \"middle\", \"mike\", \"mike\", \"mike\", \"mike\", \"mitomycin\", \"mitomycin\", \"month\", \"month\", \"month\", \"month\", \"mother\", \"mother\", \"mountain\", \"much\", \"much\", \"much\", \"much\", \"much\", \"mucus\", \"muscle\", \"muscle\", \"muscle\", \"nancy\", \"national\", \"nausea\", \"nci\", \"neo\", \"neobladd\", \"neobladder\", \"nerve\", \"nerve\", \"new\", \"new\", \"new\", \"new\", \"new\", \"new\", \"news\", \"next\", \"next\", \"next\", \"next\", \"nice\", \"night\", \"night\", \"nih\", \"nix\", \"node\", \"non\", \"non\", \"normal\", \"normal\", \"normal\", \"normal\", \"normal\", \"nurse\", \"nurse\", \"october\", \"oncologist\", \"opinion\", \"option\", \"option\", \"option\", \"org\", \"other\", \"other\", \"other\", \"other\", \"other\", \"other\", \"pad\", \"page\", \"page\", \"pain\", \"pain\", \"pain\", \"papillary\", \"parent\", \"path\", \"path\", \"pathologist\", \"pathology\", \"patient\", \"patient\", \"patient\", \"pay\", \"people\", \"people\", \"people\", \"people\", \"people\", \"people\", \"personal\", \"personal\", \"perspective\", \"php\", \"pill\", \"positive\", \"positive\", \"positive\", \"positive\", \"post\", \"post\", \"post\", \"post\", \"pouch\", \"prayer\", \"prescription\", \"problem\", \"problem\", \"problem\", \"problem\", \"procedure\", \"procedure\", \"procedure\", \"program\", \"program\", \"prostate\", \"prostate\", \"question\", \"question\", \"question\", \"question\", \"radical\", \"reaction\", \"recommendation\", \"reconstruction\", \"reconstruction\", \"recovery\", \"recovery\", \"recovery\", \"reduce\", \"related\", \"report\", \"report\", \"research\", \"research\", \"research\", \"resection\", \"resource\", \"right\", \"right\", \"right\", \"right\", \"risk\", \"risk\", \"risk\", \"risk\", \"rocky\", \"room\", \"room\", \"rosemary\", \"rosemary\", \"round\", \"round\", \"sample\", \"sara\", \"sara\", \"search\", \"search\", \"second\", \"second\", \"series\", \"share\", \"share\", \"side\", \"side\", \"site\", \"site\", \"site\", \"site\", \"sleep\", \"sleep\", \"slide\", \"smoker\", \"someone\", \"someone\", \"someone\", \"son\", \"sorry\", \"sorry\", \"sorry\", \"sorry\", \"speak\", \"spread\", \"stage\", \"statistic\", \"stent\", \"stoma\", \"stress\", \"stress\", \"stricture\", \"study\", \"study\", \"study\", \"support\", \"sure\", \"sure\", \"sure\", \"sure\", \"sure\", \"surgeon\", \"surgeon\", \"surgery\", \"surgery\", \"surgery\", \"survival\", \"survivor\", \"survivor\", \"symptom\", \"symptom\", \"system\", \"system\", \"system\", \"system\", \"system\", \"tea\", \"test\", \"test\", \"thank\", \"thank\", \"thank\", \"therapy\", \"therapy\", \"thing\", \"thing\", \"thing\", \"thing\", \"thing\", \"thinking\", \"time\", \"time\", \"time\", \"time\", \"time\", \"tissue\", \"tissue\", \"tough\", \"tough\", \"transurethral\", \"travel\", \"treat\", \"treatable\", \"treatment\", \"treatment\", \"treatment\", \"trial\", \"tube\", \"tuberculosis\", \"tumor\", \"tumor\", \"turb\", \"turb\", \"up\", \"urethral\", \"urgency\", \"uro\", \"uro\", \"urological\", \"urologist\", \"urologist\", \"usc\", \"use\", \"use\", \"use\", \"use\", \"use\", \"vaccine\", \"view\", \"vitamin\", \"wake\", \"warren\", \"water\", \"water\", \"way\", \"way\", \"way\", \"way\", \"way\", \"web\", \"web\", \"website\", \"website\", \"website\", \"week\", \"week\", \"week\", \"week\", \"well\", \"well\", \"well\", \"well\", \"well\", \"wife\", \"wife\", \"willing\", \"wish\", \"wish\", \"woman\", \"woman\", \"woman\", \"woman\", \"wonderful\", \"wonderful\", \"word\", \"word\", \"word\", \"worker\", \"www\", \"year\", \"year\", \"year\", \"year\", \"year\", \"young\", \"young\", \"zach\"]}, \"R\": 30, \"lambda.step\": 0.01, \"plot.opts\": {\"xlab\": \"PC1\", \"ylab\": \"PC2\"}, \"topic.order\": [4, 3, 1, 2, 5, 6]};\n",
       "\n",
       "function LDAvis_load_lib(url, callback){\n",
       "  var s = document.createElement('script');\n",
       "  s.src = url;\n",
       "  s.async = true;\n",
       "  s.onreadystatechange = s.onload = callback;\n",
       "  s.onerror = function(){console.warn(\"failed to load library \" + url);};\n",
       "  document.getElementsByTagName(\"head\")[0].appendChild(s);\n",
       "}\n",
       "\n",
       "if(typeof(LDAvis) !== \"undefined\"){\n",
       "   // already loaded: just create the visualization\n",
       "   !function(LDAvis){\n",
       "       new LDAvis(\"#\" + \"ldavis_el3604020972859598723544136749\", ldavis_el3604020972859598723544136749_data);\n",
       "   }(LDAvis);\n",
       "}else if(typeof define === \"function\" && define.amd){\n",
       "   // require.js is available: use it to load d3/LDAvis\n",
       "   require.config({paths: {d3: \"https://cdnjs.cloudflare.com/ajax/libs/d3/3.5.5/d3.min\"}});\n",
       "   require([\"d3\"], function(d3){\n",
       "      window.d3 = d3;\n",
       "      LDAvis_load_lib(\"https://cdn.rawgit.com/bmabey/pyLDAvis/files/ldavis.v1.0.0.js\", function(){\n",
       "        new LDAvis(\"#\" + \"ldavis_el3604020972859598723544136749\", ldavis_el3604020972859598723544136749_data);\n",
       "      });\n",
       "    });\n",
       "}else{\n",
       "    // require.js not available: dynamically load d3 & LDAvis\n",
       "    LDAvis_load_lib(\"https://cdnjs.cloudflare.com/ajax/libs/d3/3.5.5/d3.min.js\", function(){\n",
       "         LDAvis_load_lib(\"https://cdn.rawgit.com/bmabey/pyLDAvis/files/ldavis.v1.0.0.js\", function(){\n",
       "                 new LDAvis(\"#\" + \"ldavis_el3604020972859598723544136749\", ldavis_el3604020972859598723544136749_data);\n",
       "            })\n",
       "         });\n",
       "}\n",
       "</script>"
      ],
      "text/plain": [
       "PreparedData(topic_coordinates=              x         y  topics  cluster       Freq\n",
       "topic                                                \n",
       "3     -0.042687 -0.119068       1        1  33.955254\n",
       "2      0.088218  0.068363       2        1  19.655613\n",
       "0      0.101731 -0.150188       3        1  16.336460\n",
       "1      0.041000 -0.138840       4        1  10.533873\n",
       "4     -0.359827  0.091135       5        1   9.909273\n",
       "5      0.171565  0.248598       6        1   9.609537, topic_info=     Category         Freq       Term        Total  loglift  logprob\n",
       "30    Default  4238.000000        bcg  4238.000000  30.0000  30.0000\n",
       "107   Default  7340.000000     cancer  7340.000000  29.0000  29.0000\n",
       "8     Default  5645.000000       good  5645.000000  28.0000  28.0000\n",
       "105   Default  6420.000000    bladder  6420.000000  27.0000  27.0000\n",
       "122   Default  1146.000000       news  1146.000000  26.0000  26.0000\n",
       "326   Default  3461.000000  treatment  3461.000000  25.0000  25.0000\n",
       "128   Default  1533.000000    surgery  1533.000000  24.0000  24.0000\n",
       "352   Default  1271.000000      great  1271.000000  23.0000  23.0000\n",
       "464   Default  1339.000000    patient  1339.000000  22.0000  22.0000\n",
       "209   Default  2478.000000       sara  2478.000000  21.0000  21.0000\n",
       "196   Default  2363.000000       anne  2363.000000  20.0000  20.0000\n",
       "178   Default  1722.000000       week  1722.000000  19.0000  19.0000\n",
       "97    Default   925.000000     effect   925.000000  18.0000  18.0000\n",
       "171   Default  1534.000000      grade  1534.000000  17.0000  17.0000\n",
       "971   Default  2034.000000  urologist  2034.000000  16.0000  16.0000\n",
       "102   Default  1007.000000       side  1007.000000  15.0000  15.0000\n",
       "4     Default  1904.000000        day  1904.000000  14.0000  14.0000\n",
       "72    Default  1580.000000      tumor  1580.000000  13.0000  13.0000\n",
       "146   Default  1574.000000     second  1574.000000  12.0000  12.0000\n",
       "143   Default  1224.000000    opinion  1224.000000  11.0000  11.0000\n",
       "804   Default   565.000000        www   565.000000  10.0000  10.0000\n",
       "296   Default  1514.000000      month  1514.000000   9.0000   9.0000\n",
       "29    Default  1037.000000      thank  1037.000000   8.0000   8.0000\n",
       "751   Default   480.000000    article   480.000000   7.0000   7.0000\n",
       "85    Default  2203.000000      thing  2203.000000   6.0000   6.0000\n",
       "328   Default   485.000000   catheter   485.000000   5.0000   5.0000\n",
       "298   Default   884.000000       pain   884.000000   4.0000   4.0000\n",
       "789   Default   464.000000        com   464.000000   3.0000   3.0000\n",
       "70    Default  3298.000000       time  3298.000000   2.0000   2.0000\n",
       "289   Default   649.000000      happy   649.000000   1.0000   1.0000\n",
       "...       ...          ...        ...          ...      ...      ...\n",
       "1359   Topic6    42.360573      claim    43.212273   2.3225  -6.6266\n",
       "946    Topic6   238.219086       mark   271.770477   2.2106  -4.8997\n",
       "352    Topic6   809.838257      great  1271.946533   1.8909  -3.6760\n",
       "1732   Topic6   257.149445     george   393.524353   1.9169  -4.8232\n",
       "2088   Topic6   118.791008        bed   153.761276   2.0844  -5.5955\n",
       "289    Topic6   342.659149      happy   649.422607   1.7031  -4.5361\n",
       "647    Topic6   216.802139  wonderful   353.137909   1.8545  -4.9939\n",
       "8      Topic6  1698.453125       good  5645.468750   1.1413  -2.9354\n",
       "1875   Topic6   391.778473       mike   857.470215   1.5591  -4.4022\n",
       "29     Topic6   448.870331      thank  1037.229370   1.5048  -4.2661\n",
       "707    Topic6   106.757004      tough   142.009003   2.0571  -5.7023\n",
       "99     Topic6   300.634918       glad   661.173828   1.5543  -4.6670\n",
       "1721   Topic6   146.520279       love   257.831848   1.7773  -5.3857\n",
       "465    Topic6   357.998840       hope  1105.547363   1.2148  -4.4923\n",
       "884    Topic6   309.110443       luck   922.765015   1.2487  -4.6392\n",
       "1054   Topic6   126.534203       hear   207.240250   1.8490  -5.5323\n",
       "4      Topic6   429.488831        day  1904.727295   0.8529  -4.3103\n",
       "204    Topic6   294.763153       life  1071.980469   1.0513  -4.6867\n",
       "85     Topic6   417.992737      thing  2203.319092   0.6802  -4.3374\n",
       "187    Topic6   154.353195       wife   335.696167   1.5655  -5.3336\n",
       "24     Topic6   382.903290       year  2844.732666   0.3370  -4.4251\n",
       "432    Topic6   171.179459      clear   488.607788   1.2936  -5.2301\n",
       "75     Topic6   236.396378        way  1192.917603   0.7238  -4.9073\n",
       "26     Topic6   181.065475       jack   569.650513   1.1962  -5.1740\n",
       "70     Topic6   287.624878       time  3298.208008  -0.0971  -4.7112\n",
       "1423   Topic6   138.092270   recovery   318.617920   1.5063  -5.4449\n",
       "16     Topic6   146.665161   positive   440.312775   1.2431  -5.3847\n",
       "296    Topic6   183.902344      month  1514.516235   0.2340  -5.1585\n",
       "135    Topic6   156.758911       well   843.278198   0.6598  -5.3181\n",
       "617    Topic6   149.557861     little   834.479797   0.6233  -5.3652\n",
       "\n",
       "[403 rows x 6 columns], token_table=      Topic      Freq        Term\n",
       "term                             \n",
       "2220      4  0.976611     advance\n",
       "2771      3  0.987132   afternoon\n",
       "577       1  0.996456  aggressive\n",
       "2298      2  0.982969     amazing\n",
       "1719      2  0.997483         ann\n",
       "196       1  0.914579        anne\n",
       "196       3  0.085451        anne\n",
       "1         3  0.990384      annual\n",
       "153       3  0.804456  antibiotic\n",
       "153       4  0.193069  antibiotic\n",
       "358       3  0.991922   arthritis\n",
       "751       5  0.998222     article\n",
       "1190      6  0.991808    attitude\n",
       "77        1  0.176386         bad\n",
       "77        2  0.234376         bad\n",
       "77        3  0.426469         bad\n",
       "77        6  0.163097         bad\n",
       "986       6  0.996805         bag\n",
       "30        1  0.147684         bcg\n",
       "30        3  0.852133         bcg\n",
       "2088      2  0.058532         bed\n",
       "2088      3  0.162590         bed\n",
       "2088      6  0.773927         bed\n",
       "155       1  0.997724      biopsy\n",
       "3353      2  0.988992    birthday\n",
       "398       2  0.428510         bit\n",
       "398       3  0.569940         bit\n",
       "105       1  0.848596     bladder\n",
       "105       3  0.043925     bladder\n",
       "105       4  0.031776     bladder\n",
       "...     ...       ...         ...\n",
       "178       6  0.057466        week\n",
       "135       1  0.279860        well\n",
       "135       2  0.341524        well\n",
       "135       3  0.154160        well\n",
       "135       4  0.037947        well\n",
       "135       6  0.186178        well\n",
       "187       2  0.539178        wife\n",
       "187       6  0.458748        wife\n",
       "1007      2  0.994753     willing\n",
       "1722      2  0.897676        wish\n",
       "1722      3  0.100954        wish\n",
       "429       1  0.080673       woman\n",
       "429       2  0.140300       woman\n",
       "429       4  0.722547       woman\n",
       "429       5  0.052613       woman\n",
       "647       2  0.385119   wonderful\n",
       "647       6  0.614491   wonderful\n",
       "167       1  0.179935        word\n",
       "167       2  0.672800        word\n",
       "167       6  0.146034        word\n",
       "1371      6  0.980187      worker\n",
       "804       5  0.998644         www\n",
       "24        1  0.366291        year\n",
       "24        2  0.212322        year\n",
       "24        3  0.274191        year\n",
       "24        4  0.012655        year\n",
       "24        6  0.134635        year\n",
       "1251      1  0.161921       young\n",
       "1251      2  0.832739       young\n",
       "5197      2  0.994270        zach\n",
       "\n",
       "[637 rows x 3 columns], R=30, lambda_step=0.01, plot_opts={'xlab': 'PC1', 'ylab': 'PC2'}, topic_order=[4, 3, 1, 2, 5, 6])"
      ]
     },
     "execution_count": 110,
     "metadata": {},
     "output_type": "execute_result"
    }
   ],
   "source": [
    "# plotting the topics\n",
    "pyLDAvis.enable_notebook()\n",
    "vis = pyLDAvis.gensim.prepare(lda_model, doc_term_matrix, dictionary)\n",
    "vis"
   ]
  },
  {
   "cell_type": "code",
   "execution_count": 111,
   "metadata": {},
   "outputs": [],
   "source": [
    "# save plot\n",
    "pyLDAvis.save_html(vis, 'topicModel_bladderCancer.html')"
   ]
  },
  {
   "cell_type": "code",
   "execution_count": 118,
   "metadata": {},
   "outputs": [
    {
     "name": "stderr",
     "output_type": "stream",
     "text": [
      "C:\\Users\\tanmo\\Anaconda3\\lib\\site-packages\\ipykernel_launcher.py:3: FutureWarning: \n",
      "The current behaviour of 'Series.argmax' is deprecated, use 'idxmax'\n",
      "instead.\n",
      "The behavior of 'argmax' will be corrected to return the positional\n",
      "maximum in the future. For now, use 'series.values.argmax' or\n",
      "'np.argmax(np.array(values))' to get the position of the maximum\n",
      "row.\n",
      "  This is separate from the ipykernel package so we can avoid doing imports until\n"
     ]
    },
    {
     "data": {
      "text/plain": [
       "'Dx Dx TURBT Dx TURBT BCG Dx TURBT BCG Dx'"
      ]
     },
     "execution_count": 118,
     "metadata": {},
     "output_type": "execute_result"
    }
   ],
   "source": [
    "# finding the username with maximum treatment signature\n",
    "str(mergedf.iloc[mergedf.signature.str.split(\" \").str.len().argmax()]['author'])\n",
    "str(mergedf.iloc[mergedf.signature.str.split(\" \").str.len().argmax()]['signature'])\n"
   ]
  },
  {
   "cell_type": "code",
   "execution_count": 123,
   "metadata": {},
   "outputs": [
    {
     "data": {
      "text/plain": [
       "{'BCG', 'Chemotherapy', 'Dx', 'Surgery', 'TURBT'}"
      ]
     },
     "execution_count": 123,
     "metadata": {},
     "output_type": "execute_result"
    }
   ],
   "source": [
    "# stages\n",
    "# mergedf.signature.str.split(\" \")\n",
    "set(mergedf['signature'].str.cat(sep=' ').split(' '))"
   ]
  },
  {
   "cell_type": "markdown",
   "metadata": {},
   "source": [
    "# Text Processing"
   ]
  },
  {
   "cell_type": "code",
   "execution_count": 124,
   "metadata": {},
   "outputs": [
    {
     "data": {
      "text/html": [
       "<div>\n",
       "<style scoped>\n",
       "    .dataframe tbody tr th:only-of-type {\n",
       "        vertical-align: middle;\n",
       "    }\n",
       "\n",
       "    .dataframe tbody tr th {\n",
       "        vertical-align: top;\n",
       "    }\n",
       "\n",
       "    .dataframe thead th {\n",
       "        text-align: right;\n",
       "    }\n",
       "</style>\n",
       "<table border=\"1\" class=\"dataframe\">\n",
       "  <thead>\n",
       "    <tr style=\"text-align: right;\">\n",
       "      <th></th>\n",
       "      <th>Unnamed: 0</th>\n",
       "      <th>author</th>\n",
       "      <th>signature</th>\n",
       "      <th>forum_id</th>\n",
       "      <th>forum</th>\n",
       "      <th>topic</th>\n",
       "      <th>text</th>\n",
       "      <th>time</th>\n",
       "      <th>month</th>\n",
       "      <th>day</th>\n",
       "      <th>year</th>\n",
       "    </tr>\n",
       "  </thead>\n",
       "  <tbody>\n",
       "    <tr>\n",
       "      <th>0</th>\n",
       "      <td>0</td>\n",
       "      <td>Alan</td>\n",
       "      <td>Dx BCG</td>\n",
       "      <td>3</td>\n",
       "      <td>newly diagnosed</td>\n",
       "      <td>my latest urine cytology</td>\n",
       "      <td>I'd simply wait for your doctor as he has all of your history and files. For peace of mind it is good you are seeing him in two days. That said, urine cytology is notorious for false positives. I...</td>\n",
       "      <td>2/24/2021</td>\n",
       "      <td>2</td>\n",
       "      <td>24</td>\n",
       "      <td>2021</td>\n",
       "    </tr>\n",
       "    <tr>\n",
       "      <th>1</th>\n",
       "      <td>1</td>\n",
       "      <td>Alan</td>\n",
       "      <td>Dx BCG</td>\n",
       "      <td>3</td>\n",
       "      <td>newly diagnosed</td>\n",
       "      <td>VETERANS - New Conditions Added to Agent Orange Presumptive List</td>\n",
       "      <td>Jack, Thanks for the info. I have a good friend with Parkinson's that continues downhill from his 2 years in Nam.</td>\n",
       "      <td>2/9/2021</td>\n",
       "      <td>2</td>\n",
       "      <td>9</td>\n",
       "      <td>2021</td>\n",
       "    </tr>\n",
       "    <tr>\n",
       "      <th>2</th>\n",
       "      <td>2</td>\n",
       "      <td>Alan</td>\n",
       "      <td>Dx BCG</td>\n",
       "      <td>3</td>\n",
       "      <td>newly diagnosed</td>\n",
       "      <td>Recently Diagnosed</td>\n",
       "      <td>Skyking 76, Welcome. I am not making excuses for the Doc's slow response except to say COVID has changed a lot of protocols and timing. At the same time, you are paying for expertise to where if ...</td>\n",
       "      <td>2/6/2021</td>\n",
       "      <td>2</td>\n",
       "      <td>6</td>\n",
       "      <td>2021</td>\n",
       "    </tr>\n",
       "    <tr>\n",
       "      <th>3</th>\n",
       "      <td>3</td>\n",
       "      <td>Alan</td>\n",
       "      <td>Dx BCG</td>\n",
       "      <td>3</td>\n",
       "      <td>newly diagnosed</td>\n",
       "      <td>Recently diagnosed &amp;amp;amp; scared</td>\n",
       "      <td>I am not in your shoes but, I tell myself the cysto is usually no more than 5-10 minutes and it is over. Is it fun? No! However, I wouldn't want an OR visit as I have been knocked out too many ti...</td>\n",
       "      <td>9/27/2020</td>\n",
       "      <td>9</td>\n",
       "      <td>27</td>\n",
       "      <td>2020</td>\n",
       "    </tr>\n",
       "    <tr>\n",
       "      <th>4</th>\n",
       "      <td>4</td>\n",
       "      <td>Alan</td>\n",
       "      <td>Dx BCG</td>\n",
       "      <td>3</td>\n",
       "      <td>newly diagnosed</td>\n",
       "      <td>Recently diagnosed &amp;amp;amp; scared</td>\n",
       "      <td>Sorry for the reason to renter the forum. This is still treatable and beatable. Ask as you go.</td>\n",
       "      <td>2/6/2021</td>\n",
       "      <td>2</td>\n",
       "      <td>6</td>\n",
       "      <td>2021</td>\n",
       "    </tr>\n",
       "  </tbody>\n",
       "</table>\n",
       "</div>"
      ],
      "text/plain": [
       "   Unnamed: 0 author signature  forum_id            forum  \\\n",
       "0           0   Alan    Dx BCG         3  newly diagnosed   \n",
       "1           1   Alan    Dx BCG         3  newly diagnosed   \n",
       "2           2   Alan    Dx BCG         3  newly diagnosed   \n",
       "3           3   Alan    Dx BCG         3  newly diagnosed   \n",
       "4           4   Alan    Dx BCG         3  newly diagnosed   \n",
       "\n",
       "                                                              topic  \\\n",
       "0                                          my latest urine cytology   \n",
       "1  VETERANS - New Conditions Added to Agent Orange Presumptive List   \n",
       "2                                                Recently Diagnosed   \n",
       "3                               Recently diagnosed &amp;amp; scared   \n",
       "4                               Recently diagnosed &amp;amp; scared   \n",
       "\n",
       "                                                                                                                                                                                                      text  \\\n",
       "0   I'd simply wait for your doctor as he has all of your history and files. For peace of mind it is good you are seeing him in two days. That said, urine cytology is notorious for false positives. I...   \n",
       "1                                                                                       Jack, Thanks for the info. I have a good friend with Parkinson's that continues downhill from his 2 years in Nam.    \n",
       "2   Skyking 76, Welcome. I am not making excuses for the Doc's slow response except to say COVID has changed a lot of protocols and timing. At the same time, you are paying for expertise to where if ...   \n",
       "3   I am not in your shoes but, I tell myself the cysto is usually no more than 5-10 minutes and it is over. Is it fun? No! However, I wouldn't want an OR visit as I have been knocked out too many ti...   \n",
       "4                                                                                                          Sorry for the reason to renter the forum. This is still treatable and beatable. Ask as you go.    \n",
       "\n",
       "        time  month  day  year  \n",
       "0  2/24/2021      2   24  2021  \n",
       "1   2/9/2021      2    9  2021  \n",
       "2   2/6/2021      2    6  2021  \n",
       "3  9/27/2020      9   27  2020  \n",
       "4   2/6/2021      2    6  2021  "
      ]
     },
     "execution_count": 124,
     "metadata": {},
     "output_type": "execute_result"
    }
   ],
   "source": [
    "\n",
    "df = pd.read_csv(\"C://Users//tanmo//OneDrive - George Mason University//LabWork//HealthForum//SourceCode//pointOfInterest_bladderCancer.csv\")\n",
    "df.head()"
   ]
  },
  {
   "cell_type": "code",
   "execution_count": 126,
   "metadata": {},
   "outputs": [
    {
     "data": {
      "text/html": [
       "<div>\n",
       "<style scoped>\n",
       "    .dataframe tbody tr th:only-of-type {\n",
       "        vertical-align: middle;\n",
       "    }\n",
       "\n",
       "    .dataframe tbody tr th {\n",
       "        vertical-align: top;\n",
       "    }\n",
       "\n",
       "    .dataframe thead th {\n",
       "        text-align: right;\n",
       "    }\n",
       "</style>\n",
       "<table border=\"1\" class=\"dataframe\">\n",
       "  <thead>\n",
       "    <tr style=\"text-align: right;\">\n",
       "      <th></th>\n",
       "      <th>text</th>\n",
       "      <th>word_count</th>\n",
       "      <th>char_count</th>\n",
       "    </tr>\n",
       "  </thead>\n",
       "  <tbody>\n",
       "    <tr>\n",
       "      <th>0</th>\n",
       "      <td>I'd simply wait for your doctor as he has all of your history and files. For peace of mind it is good you are seeing him in two days. That said, urine cytology is notorious for false positives. I...</td>\n",
       "      <td>115</td>\n",
       "      <td>591</td>\n",
       "    </tr>\n",
       "    <tr>\n",
       "      <th>1</th>\n",
       "      <td>Jack, Thanks for the info. I have a good friend with Parkinson's that continues downhill from his 2 years in Nam.</td>\n",
       "      <td>23</td>\n",
       "      <td>115</td>\n",
       "    </tr>\n",
       "    <tr>\n",
       "      <th>2</th>\n",
       "      <td>Skyking 76, Welcome. I am not making excuses for the Doc's slow response except to say COVID has changed a lot of protocols and timing. At the same time, you are paying for expertise to where if ...</td>\n",
       "      <td>181</td>\n",
       "      <td>936</td>\n",
       "    </tr>\n",
       "    <tr>\n",
       "      <th>3</th>\n",
       "      <td>I am not in your shoes but, I tell myself the cysto is usually no more than 5-10 minutes and it is over. Is it fun? No! However, I wouldn't want an OR visit as I have been knocked out too many ti...</td>\n",
       "      <td>69</td>\n",
       "      <td>349</td>\n",
       "    </tr>\n",
       "    <tr>\n",
       "      <th>4</th>\n",
       "      <td>Sorry for the reason to renter the forum. This is still treatable and beatable. Ask as you go.</td>\n",
       "      <td>20</td>\n",
       "      <td>96</td>\n",
       "    </tr>\n",
       "  </tbody>\n",
       "</table>\n",
       "</div>"
      ],
      "text/plain": [
       "                                                                                                                                                                                                      text  \\\n",
       "0   I'd simply wait for your doctor as he has all of your history and files. For peace of mind it is good you are seeing him in two days. That said, urine cytology is notorious for false positives. I...   \n",
       "1                                                                                       Jack, Thanks for the info. I have a good friend with Parkinson's that continues downhill from his 2 years in Nam.    \n",
       "2   Skyking 76, Welcome. I am not making excuses for the Doc's slow response except to say COVID has changed a lot of protocols and timing. At the same time, you are paying for expertise to where if ...   \n",
       "3   I am not in your shoes but, I tell myself the cysto is usually no more than 5-10 minutes and it is over. Is it fun? No! However, I wouldn't want an OR visit as I have been knocked out too many ti...   \n",
       "4                                                                                                          Sorry for the reason to renter the forum. This is still treatable and beatable. Ask as you go.    \n",
       "\n",
       "   word_count  char_count  \n",
       "0         115         591  \n",
       "1          23         115  \n",
       "2         181         936  \n",
       "3          69         349  \n",
       "4          20          96  "
      ]
     },
     "execution_count": 126,
     "metadata": {},
     "output_type": "execute_result"
    }
   ],
   "source": [
    "# Number of words\n",
    "df['word_count'] = df['text'].apply(lambda x: len(str(x).split(\" \")))\n",
    "# df[['forumTopicText','word_count']].head()\n",
    "# Number of charactters\n",
    "df['char_count'] = df['text'].str.len() ## this also includes spaces\n",
    "df[['text','word_count','char_count']].head()"
   ]
  },
  {
   "cell_type": "code",
   "execution_count": null,
   "metadata": {},
   "outputs": [],
   "source": [
    "# Average word length\n",
    "def avg_word(sentence):\n",
    "  words = sentence.split()\n",
    "  return (sum(len(word) for word in words)/len(words))\n",
    "\n",
    "df['avg_word'] = df['text'].apply(lambda x: avg_word(str(x)))\n",
    "df[['text','avg_word']].head()"
   ]
  },
  {
   "cell_type": "code",
   "execution_count": 129,
   "metadata": {},
   "outputs": [
    {
     "data": {
      "text/html": [
       "<div>\n",
       "<style scoped>\n",
       "    .dataframe tbody tr th:only-of-type {\n",
       "        vertical-align: middle;\n",
       "    }\n",
       "\n",
       "    .dataframe tbody tr th {\n",
       "        vertical-align: top;\n",
       "    }\n",
       "\n",
       "    .dataframe thead th {\n",
       "        text-align: right;\n",
       "    }\n",
       "</style>\n",
       "<table border=\"1\" class=\"dataframe\">\n",
       "  <thead>\n",
       "    <tr style=\"text-align: right;\">\n",
       "      <th></th>\n",
       "      <th>text</th>\n",
       "      <th>stopwords</th>\n",
       "    </tr>\n",
       "  </thead>\n",
       "  <tbody>\n",
       "    <tr>\n",
       "      <th>0</th>\n",
       "      <td>I'd simply wait for your doctor as he has all of your history and files. For peace of mind it is good you are seeing him in two days. That said, urine cytology is notorious for false positives. I...</td>\n",
       "      <td>49</td>\n",
       "    </tr>\n",
       "    <tr>\n",
       "      <th>1</th>\n",
       "      <td>Jack, Thanks for the info. I have a good friend with Parkinson's that continues downhill from his 2 years in Nam.</td>\n",
       "      <td>9</td>\n",
       "    </tr>\n",
       "    <tr>\n",
       "      <th>2</th>\n",
       "      <td>Skyking 76, Welcome. I am not making excuses for the Doc's slow response except to say COVID has changed a lot of protocols and timing. At the same time, you are paying for expertise to where if ...</td>\n",
       "      <td>84</td>\n",
       "    </tr>\n",
       "    <tr>\n",
       "      <th>3</th>\n",
       "      <td>I am not in your shoes but, I tell myself the cysto is usually no more than 5-10 minutes and it is over. Is it fun? No! However, I wouldn't want an OR visit as I have been knocked out too many ti...</td>\n",
       "      <td>29</td>\n",
       "    </tr>\n",
       "    <tr>\n",
       "      <th>4</th>\n",
       "      <td>Sorry for the reason to renter the forum. This is still treatable and beatable. Ask as you go.</td>\n",
       "      <td>8</td>\n",
       "    </tr>\n",
       "  </tbody>\n",
       "</table>\n",
       "</div>"
      ],
      "text/plain": [
       "                                                                                                                                                                                                      text  \\\n",
       "0   I'd simply wait for your doctor as he has all of your history and files. For peace of mind it is good you are seeing him in two days. That said, urine cytology is notorious for false positives. I...   \n",
       "1                                                                                       Jack, Thanks for the info. I have a good friend with Parkinson's that continues downhill from his 2 years in Nam.    \n",
       "2   Skyking 76, Welcome. I am not making excuses for the Doc's slow response except to say COVID has changed a lot of protocols and timing. At the same time, you are paying for expertise to where if ...   \n",
       "3   I am not in your shoes but, I tell myself the cysto is usually no more than 5-10 minutes and it is over. Is it fun? No! However, I wouldn't want an OR visit as I have been knocked out too many ti...   \n",
       "4                                                                                                          Sorry for the reason to renter the forum. This is still treatable and beatable. Ask as you go.    \n",
       "\n",
       "   stopwords  \n",
       "0         49  \n",
       "1          9  \n",
       "2         84  \n",
       "3         29  \n",
       "4          8  "
      ]
     },
     "execution_count": 129,
     "metadata": {},
     "output_type": "execute_result"
    }
   ],
   "source": [
    "# Number of stopwords\n",
    "from nltk.corpus import stopwords\n",
    "stop = stopwords.words('english')\n",
    "\n",
    "df['stopwords'] = df['text'].apply(lambda x: len([x for x in str(x).split() if x in stop]))\n",
    "df[['text','stopwords']].head()"
   ]
  },
  {
   "cell_type": "code",
   "execution_count": 130,
   "metadata": {},
   "outputs": [
    {
     "data": {
      "text/html": [
       "<div>\n",
       "<style scoped>\n",
       "    .dataframe tbody tr th:only-of-type {\n",
       "        vertical-align: middle;\n",
       "    }\n",
       "\n",
       "    .dataframe tbody tr th {\n",
       "        vertical-align: top;\n",
       "    }\n",
       "\n",
       "    .dataframe thead th {\n",
       "        text-align: right;\n",
       "    }\n",
       "</style>\n",
       "<table border=\"1\" class=\"dataframe\">\n",
       "  <thead>\n",
       "    <tr style=\"text-align: right;\">\n",
       "      <th></th>\n",
       "      <th>text</th>\n",
       "      <th>hastags</th>\n",
       "    </tr>\n",
       "  </thead>\n",
       "  <tbody>\n",
       "    <tr>\n",
       "      <th>0</th>\n",
       "      <td>I'd simply wait for your doctor as he has all of your history and files. For peace of mind it is good you are seeing him in two days. That said, urine cytology is notorious for false positives. I...</td>\n",
       "      <td>0</td>\n",
       "    </tr>\n",
       "    <tr>\n",
       "      <th>1</th>\n",
       "      <td>Jack, Thanks for the info. I have a good friend with Parkinson's that continues downhill from his 2 years in Nam.</td>\n",
       "      <td>0</td>\n",
       "    </tr>\n",
       "    <tr>\n",
       "      <th>2</th>\n",
       "      <td>Skyking 76, Welcome. I am not making excuses for the Doc's slow response except to say COVID has changed a lot of protocols and timing. At the same time, you are paying for expertise to where if ...</td>\n",
       "      <td>0</td>\n",
       "    </tr>\n",
       "    <tr>\n",
       "      <th>3</th>\n",
       "      <td>I am not in your shoes but, I tell myself the cysto is usually no more than 5-10 minutes and it is over. Is it fun? No! However, I wouldn't want an OR visit as I have been knocked out too many ti...</td>\n",
       "      <td>0</td>\n",
       "    </tr>\n",
       "    <tr>\n",
       "      <th>4</th>\n",
       "      <td>Sorry for the reason to renter the forum. This is still treatable and beatable. Ask as you go.</td>\n",
       "      <td>0</td>\n",
       "    </tr>\n",
       "  </tbody>\n",
       "</table>\n",
       "</div>"
      ],
      "text/plain": [
       "                                                                                                                                                                                                      text  \\\n",
       "0   I'd simply wait for your doctor as he has all of your history and files. For peace of mind it is good you are seeing him in two days. That said, urine cytology is notorious for false positives. I...   \n",
       "1                                                                                       Jack, Thanks for the info. I have a good friend with Parkinson's that continues downhill from his 2 years in Nam.    \n",
       "2   Skyking 76, Welcome. I am not making excuses for the Doc's slow response except to say COVID has changed a lot of protocols and timing. At the same time, you are paying for expertise to where if ...   \n",
       "3   I am not in your shoes but, I tell myself the cysto is usually no more than 5-10 minutes and it is over. Is it fun? No! However, I wouldn't want an OR visit as I have been knocked out too many ti...   \n",
       "4                                                                                                          Sorry for the reason to renter the forum. This is still treatable and beatable. Ask as you go.    \n",
       "\n",
       "   hastags  \n",
       "0        0  \n",
       "1        0  \n",
       "2        0  \n",
       "3        0  \n",
       "4        0  "
      ]
     },
     "execution_count": 130,
     "metadata": {},
     "output_type": "execute_result"
    }
   ],
   "source": [
    "# Number of special characters\n",
    "df['hastags'] = df['text'].apply(lambda x: len([x for x in str(x).split() if x.startswith('#')]))\n",
    "df[['text','hastags']].head()"
   ]
  },
  {
   "cell_type": "code",
   "execution_count": 131,
   "metadata": {},
   "outputs": [
    {
     "data": {
      "text/html": [
       "<div>\n",
       "<style scoped>\n",
       "    .dataframe tbody tr th:only-of-type {\n",
       "        vertical-align: middle;\n",
       "    }\n",
       "\n",
       "    .dataframe tbody tr th {\n",
       "        vertical-align: top;\n",
       "    }\n",
       "\n",
       "    .dataframe thead th {\n",
       "        text-align: right;\n",
       "    }\n",
       "</style>\n",
       "<table border=\"1\" class=\"dataframe\">\n",
       "  <thead>\n",
       "    <tr style=\"text-align: right;\">\n",
       "      <th></th>\n",
       "      <th>text</th>\n",
       "      <th>numerics</th>\n",
       "    </tr>\n",
       "  </thead>\n",
       "  <tbody>\n",
       "    <tr>\n",
       "      <th>0</th>\n",
       "      <td>I'd simply wait for your doctor as he has all of your history and files. For peace of mind it is good you are seeing him in two days. That said, urine cytology is notorious for false positives. I...</td>\n",
       "      <td>2</td>\n",
       "    </tr>\n",
       "    <tr>\n",
       "      <th>1</th>\n",
       "      <td>Jack, Thanks for the info. I have a good friend with Parkinson's that continues downhill from his 2 years in Nam.</td>\n",
       "      <td>1</td>\n",
       "    </tr>\n",
       "    <tr>\n",
       "      <th>2</th>\n",
       "      <td>Skyking 76, Welcome. I am not making excuses for the Doc's slow response except to say COVID has changed a lot of protocols and timing. At the same time, you are paying for expertise to where if ...</td>\n",
       "      <td>1</td>\n",
       "    </tr>\n",
       "    <tr>\n",
       "      <th>3</th>\n",
       "      <td>I am not in your shoes but, I tell myself the cysto is usually no more than 5-10 minutes and it is over. Is it fun? No! However, I wouldn't want an OR visit as I have been knocked out too many ti...</td>\n",
       "      <td>1</td>\n",
       "    </tr>\n",
       "    <tr>\n",
       "      <th>4</th>\n",
       "      <td>Sorry for the reason to renter the forum. This is still treatable and beatable. Ask as you go.</td>\n",
       "      <td>0</td>\n",
       "    </tr>\n",
       "  </tbody>\n",
       "</table>\n",
       "</div>"
      ],
      "text/plain": [
       "                                                                                                                                                                                                      text  \\\n",
       "0   I'd simply wait for your doctor as he has all of your history and files. For peace of mind it is good you are seeing him in two days. That said, urine cytology is notorious for false positives. I...   \n",
       "1                                                                                       Jack, Thanks for the info. I have a good friend with Parkinson's that continues downhill from his 2 years in Nam.    \n",
       "2   Skyking 76, Welcome. I am not making excuses for the Doc's slow response except to say COVID has changed a lot of protocols and timing. At the same time, you are paying for expertise to where if ...   \n",
       "3   I am not in your shoes but, I tell myself the cysto is usually no more than 5-10 minutes and it is over. Is it fun? No! However, I wouldn't want an OR visit as I have been knocked out too many ti...   \n",
       "4                                                                                                          Sorry for the reason to renter the forum. This is still treatable and beatable. Ask as you go.    \n",
       "\n",
       "   numerics  \n",
       "0         2  \n",
       "1         1  \n",
       "2         1  \n",
       "3         1  \n",
       "4         0  "
      ]
     },
     "execution_count": 131,
     "metadata": {},
     "output_type": "execute_result"
    }
   ],
   "source": [
    "# Number of numerics\n",
    "df['numerics'] = df['text'].apply(lambda x: len([x for x in str(x).split() if x.isdigit()]))\n",
    "df[['text','numerics']].head()"
   ]
  },
  {
   "cell_type": "code",
   "execution_count": 132,
   "metadata": {},
   "outputs": [
    {
     "data": {
      "text/html": [
       "<div>\n",
       "<style scoped>\n",
       "    .dataframe tbody tr th:only-of-type {\n",
       "        vertical-align: middle;\n",
       "    }\n",
       "\n",
       "    .dataframe tbody tr th {\n",
       "        vertical-align: top;\n",
       "    }\n",
       "\n",
       "    .dataframe thead th {\n",
       "        text-align: right;\n",
       "    }\n",
       "</style>\n",
       "<table border=\"1\" class=\"dataframe\">\n",
       "  <thead>\n",
       "    <tr style=\"text-align: right;\">\n",
       "      <th></th>\n",
       "      <th>text</th>\n",
       "      <th>upper</th>\n",
       "    </tr>\n",
       "  </thead>\n",
       "  <tbody>\n",
       "    <tr>\n",
       "      <th>0</th>\n",
       "      <td>I'd simply wait for your doctor as he has all of your history and files. For peace of mind it is good you are seeing him in two days. That said, urine cytology is notorious for false positives. I...</td>\n",
       "      <td>6</td>\n",
       "    </tr>\n",
       "    <tr>\n",
       "      <th>1</th>\n",
       "      <td>Jack, Thanks for the info. I have a good friend with Parkinson's that continues downhill from his 2 years in Nam.</td>\n",
       "      <td>1</td>\n",
       "    </tr>\n",
       "    <tr>\n",
       "      <th>2</th>\n",
       "      <td>Skyking 76, Welcome. I am not making excuses for the Doc's slow response except to say COVID has changed a lot of protocols and timing. At the same time, you are paying for expertise to where if ...</td>\n",
       "      <td>8</td>\n",
       "    </tr>\n",
       "    <tr>\n",
       "      <th>3</th>\n",
       "      <td>I am not in your shoes but, I tell myself the cysto is usually no more than 5-10 minutes and it is over. Is it fun? No! However, I wouldn't want an OR visit as I have been knocked out too many ti...</td>\n",
       "      <td>5</td>\n",
       "    </tr>\n",
       "    <tr>\n",
       "      <th>4</th>\n",
       "      <td>Sorry for the reason to renter the forum. This is still treatable and beatable. Ask as you go.</td>\n",
       "      <td>0</td>\n",
       "    </tr>\n",
       "  </tbody>\n",
       "</table>\n",
       "</div>"
      ],
      "text/plain": [
       "                                                                                                                                                                                                      text  \\\n",
       "0   I'd simply wait for your doctor as he has all of your history and files. For peace of mind it is good you are seeing him in two days. That said, urine cytology is notorious for false positives. I...   \n",
       "1                                                                                       Jack, Thanks for the info. I have a good friend with Parkinson's that continues downhill from his 2 years in Nam.    \n",
       "2   Skyking 76, Welcome. I am not making excuses for the Doc's slow response except to say COVID has changed a lot of protocols and timing. At the same time, you are paying for expertise to where if ...   \n",
       "3   I am not in your shoes but, I tell myself the cysto is usually no more than 5-10 minutes and it is over. Is it fun? No! However, I wouldn't want an OR visit as I have been knocked out too many ti...   \n",
       "4                                                                                                          Sorry for the reason to renter the forum. This is still treatable and beatable. Ask as you go.    \n",
       "\n",
       "   upper  \n",
       "0      6  \n",
       "1      1  \n",
       "2      8  \n",
       "3      5  \n",
       "4      0  "
      ]
     },
     "execution_count": 132,
     "metadata": {},
     "output_type": "execute_result"
    }
   ],
   "source": [
    "# Number of uppercase words\n",
    "df['upper'] = df['text'].apply(lambda x: len([x for x in str(x).split() if x.isupper()]))\n",
    "df[['text','upper']].head()"
   ]
  },
  {
   "cell_type": "code",
   "execution_count": 133,
   "metadata": {},
   "outputs": [],
   "source": [
    "# Removing non-ASCII characters\n",
    "import re, string, unicodedata\n",
    "def remove_non_ascii(words):\n",
    "    \"\"\"Remove non-ASCII characters from list of tokenized words\"\"\"\n",
    "    new_words = []\n",
    "    for word in words:\n",
    "        new_word = unicodedata.normalize('NFKD', word).encode('ascii', 'ignore').decode('utf-8', 'ignore')\n",
    "        new_words.append(new_word)\n",
    "    return new_words\n",
    "\n",
    "df['text'] = df['text'].apply(lambda x: \" \".join(remove_non_ascii(str(x).split())))"
   ]
  },
  {
   "cell_type": "code",
   "execution_count": 134,
   "metadata": {},
   "outputs": [],
   "source": [
    "# Removing contraction. For example: Don't == do not\n",
    "import re\n",
    "\n",
    "def decontracted(phrase):\n",
    "    # specific\n",
    "    phrase = re.sub(r\"won\\'t\", \"will not\", phrase)\n",
    "    phrase = re.sub(r\"can\\'t\", \"can not\", phrase)\n",
    "\n",
    "    # general\n",
    "    phrase = re.sub(r\"n\\'t\", \" not\", phrase)\n",
    "    phrase = re.sub(r\"\\'re\", \" are\", phrase)\n",
    "    phrase = re.sub(r\"\\'s\", \" is\", phrase)\n",
    "    phrase = re.sub(r\"\\'d\", \" would\", phrase)\n",
    "    phrase = re.sub(r\"\\'ll\", \" will\", phrase)\n",
    "    phrase = re.sub(r\"\\'t\", \" not\", phrase)\n",
    "    phrase = re.sub(r\"\\'ve\", \" have\", phrase)\n",
    "    phrase = re.sub(r\"\\'m\", \" am\", phrase)\n",
    "    return phrase\n",
    "\n",
    "# test = \"Hey I'm Yann, how're you and how's it going ? That's interesting: I'd love to hear more about it.\"\n",
    "# print(decontracted(test))\n",
    "\n",
    "df['text'] = df['text'].apply(lambda x: decontracted(x))"
   ]
  },
  {
   "cell_type": "code",
   "execution_count": 135,
   "metadata": {},
   "outputs": [
    {
     "data": {
      "text/plain": [
       "'i would simply wait for your doctor as he has all of your history and files. for peace of mind it is good you are seeing him in two days. that said, urine cytology is notorious for false positives. i had one about 6 or 7 years ago that showed something abnormal with my GP and annual physical. he insisted i see my URO which when i showed up he said \"what are you here for\"? he had reviewed it and it was nothing. cytology with cystoscope usually confirms something suspicious or simply nothing which is what i would expect. let us know what your doc says as many can relate to your situation.'"
      ]
     },
     "execution_count": 135,
     "metadata": {},
     "output_type": "execute_result"
    }
   ],
   "source": [
    "# Making Lower Case\n",
    "# No changing if all are upper case as like US. Because US = United states. But 'I' should be lowered as it is a stopword\n",
    "df['text'] = df['text'].apply(lambda x: \" \".join(y.lower() if not (y.isupper() and y!='I') else y for y in str(x).split() ))\n",
    "# df['forumTopicText'].head()\n",
    "df.iloc[0]['text']"
   ]
  },
  {
   "cell_type": "code",
   "execution_count": 137,
   "metadata": {},
   "outputs": [
    {
     "name": "stderr",
     "output_type": "stream",
     "text": [
      "<>:2: DeprecationWarning: invalid escape sequence \\w\n",
      "<>:2: DeprecationWarning: invalid escape sequence \\w\n",
      "<>:2: DeprecationWarning: invalid escape sequence \\w\n",
      "<ipython-input-137-ffca63af52de>:2: DeprecationWarning: invalid escape sequence \\w\n",
      "  df['text'] = df['text'].str.replace('[^\\w\\s]','')\n"
     ]
    },
    {
     "data": {
      "text/plain": [
       "'i would simply wait for your doctor as he has all of your history and files for peace of mind it is good you are seeing him in two days that said urine cytology is notorious for false positives i had one about 6 or 7 years ago that showed something abnormal with my GP and annual physical he insisted i see my URO which when i showed up he said what are you here for he had reviewed it and it was nothing cytology with cystoscope usually confirms something suspicious or simply nothing which is what i would expect let us know what your doc says as many can relate to your situation'"
      ]
     },
     "execution_count": 137,
     "metadata": {},
     "output_type": "execute_result"
    }
   ],
   "source": [
    "# Removing punctuation\n",
    "df['text'] = df['text'].str.replace('[^\\w\\s]','')\n",
    "df.iloc[0]['text']"
   ]
  },
  {
   "cell_type": "code",
   "execution_count": 138,
   "metadata": {},
   "outputs": [
    {
     "data": {
      "text/plain": [
       "'i would simply wait for your doctor as he has all of your history and files for peace of mind it is good you are seeing him in two days that said urine cytology is notorious for false positives i had one about six or seven years ago that showed something abnormal with my GP and annual physical he insisted i see my URO which when i showed up he said what are you here for he had reviewed it and it was nothing cytology with cystoscope usually confirms something suspicious or simply nothing which is what i would expect let us know what your doc says as many can relate to your situation'"
      ]
     },
     "execution_count": 138,
     "metadata": {},
     "output_type": "execute_result"
    }
   ],
   "source": [
    "import inflect\n",
    "def replace_numbers(words):\n",
    "    \"\"\"Replace all interger occurrences in list of tokenized words with textual representation\"\"\"\n",
    "    p = inflect.engine()\n",
    "    new_words = []\n",
    "    for word in words:\n",
    "        if word.isdigit():\n",
    "            new_word = p.number_to_words(word)\n",
    "            new_words.append(new_word)\n",
    "        else:\n",
    "            new_words.append(word)\n",
    "    return new_words\n",
    "\n",
    "df['text'] = df['text'].apply(lambda x: \" \".join(replace_numbers(x.split())))\n",
    "df.iloc[0]['text']"
   ]
  },
  {
   "cell_type": "code",
   "execution_count": 139,
   "metadata": {},
   "outputs": [
    {
     "data": {
      "text/plain": [
       "'would simply wait doctor history files peace mind good seeing two days said urine cytology notorious false positives one six seven years ago showed something abnormal GP annual physical insisted see URO showed said reviewed nothing cytology cystoscope usually confirms something suspicious simply nothing would expect let us know doc says many relate situation'"
      ]
     },
     "execution_count": 139,
     "metadata": {},
     "output_type": "execute_result"
    }
   ],
   "source": [
    "# Removing stopwords\n",
    "from nltk.corpus import stopwords\n",
    "stop = stopwords.words('english')\n",
    "df['text'] = df['text'].apply(lambda x: \" \".join(x for x in x.split() if x not in stop))\n",
    "df.iloc[0]['text']"
   ]
  },
  {
   "cell_type": "code",
   "execution_count": 140,
   "metadata": {},
   "outputs": [
    {
     "data": {
      "text/plain": [
       "cancer       6636\n",
       "bladder      6217\n",
       "one          4372\n",
       "BCG          4201\n",
       "would        4160\n",
       "good         3911\n",
       "know         3653\n",
       "get          3415\n",
       "time         2985\n",
       "two          2734\n",
       "like         2397\n",
       "best         2358\n",
       "us           2312\n",
       "treatment    2291\n",
       "also         2219\n",
       "sara         2136\n",
       "anne         2091\n",
       "may          1975\n",
       "go           1920\n",
       "years        1909\n",
       "first        1896\n",
       "back         1861\n",
       "many         1842\n",
       "doctor       1837\n",
       "well         1800\n",
       "dtype: int64"
      ]
     },
     "execution_count": 140,
     "metadata": {},
     "output_type": "execute_result"
    }
   ],
   "source": [
    "# Checking 25 most commonly words\n",
    "freq = pd.Series(' '.join(df['text']).split()).value_counts()[:25]\n",
    "freq\n",
    "# # For removing freq words\n",
    "# freq = list(freq.index)\n",
    "# df['forumTopicText'] = df['forumTopicText'].apply(lambda x: \" \".join(x for x in x.split() if x not in freq))\n",
    "# df['forumTopicText'].head()"
   ]
  },
  {
   "cell_type": "code",
   "execution_count": 141,
   "metadata": {},
   "outputs": [],
   "source": [
    "# rare words\n",
    "# rare = pd.Series(' '.join(df['forumTopicText']).split()).value_counts()[-100:]\n",
    "rare = pd.Series(' '.join(df['text']).split()).value_counts()<5\n",
    "# rare\n",
    "rare = rare[rare == True]\n",
    "# rare.where(rare <5)"
   ]
  },
  {
   "cell_type": "code",
   "execution_count": 142,
   "metadata": {},
   "outputs": [
    {
     "data": {
      "text/plain": [
       "'would simply wait doctor history files peace mind good seeing two days said urine cytology notorious false positives one six seven years ago showed something abnormal GP annual physical insisted see URO showed said reviewed nothing cytology cystoscope usually confirms something suspicious simply nothing would expect let us know doc says many relate situation'"
      ]
     },
     "execution_count": 142,
     "metadata": {},
     "output_type": "execute_result"
    }
   ],
   "source": [
    "# For removing rare words\n",
    "rare = list(rare.index)\n",
    "df['text'] = df['text'].apply(lambda x: \" \".join(x for x in x.split() if x not in rare))\n",
    "df.iloc[0]['text']"
   ]
  },
  {
   "cell_type": "code",
   "execution_count": 143,
   "metadata": {},
   "outputs": [
    {
     "data": {
      "text/plain": [
       "'would simply wait doctor history file peace mind good see two days say urine cytology notorious false positives one six seven years ago show something abnormal GP annual physical insist see URO show say review nothing cytology cystoscope usually confirm something suspicious simply nothing would expect let us know doc say many relate situation'"
      ]
     },
     "execution_count": 143,
     "metadata": {},
     "output_type": "execute_result"
    }
   ],
   "source": [
    "# Lemmatization: Lemmatization is the process of converting a word to its base form. ‘Caring’ -> Lemmatization -> ‘Care’\n",
    "from nltk.stem import LancasterStemmer, WordNetLemmatizer\n",
    "def lemmatize_verbs(words):\n",
    "    \"\"\"Lemmatize verbs in list of tokenized words\"\"\"\n",
    "    lemmatizer = WordNetLemmatizer()\n",
    "    lemmas = []\n",
    "    for word in words:\n",
    "        lemma = lemmatizer.lemmatize(word, pos='v')\n",
    "        lemmas.append(lemma)\n",
    "    return lemmas\n",
    "\n",
    "# lemmas = lemmatize_verbs(words)\n",
    "\n",
    "df['text']= df['text'].apply(lambda x: \" \".join(lemmatize_verbs(x.split())))\n",
    "df.iloc[0]['text']\n"
   ]
  },
  {
   "cell_type": "code",
   "execution_count": 151,
   "metadata": {},
   "outputs": [],
   "source": [
    "# Removing Username\n",
    "username = list((set(df['author'])))\n",
    "usernameLower = [x.lower() for x in username]\n",
    "df['text'] = df['text'].apply(lambda x: \" \".join(x for x in x.split() if x.lower() not in usernameLower))"
   ]
  },
  {
   "cell_type": "code",
   "execution_count": 152,
   "metadata": {},
   "outputs": [],
   "source": [
    "# save as csv file\n",
    "df.to_csv(r'C:\\\\Users\\\\tanmo\\\\OneDrive - George Mason University\\\\LabWork\\\\HealthForum\\\\SourceCode\\\\pointOfInterest_bladderCancer_withProperLemma.csv')"
   ]
  },
  {
   "cell_type": "code",
   "execution_count": null,
   "metadata": {},
   "outputs": [],
   "source": [
    "# Dropping NaN values\n",
    "df_train = df_train[pd.notnull(df_train['text'])]"
   ]
  },
  {
   "cell_type": "code",
   "execution_count": 154,
   "metadata": {},
   "outputs": [],
   "source": [
    "# Making text data \n",
    "# Stages: 'BCG', 'Chemotherapy', 'Dx', 'Surgery', 'TURBT'\n",
    "def merge_rows(dataframe1):\n",
    "    list_Text = []\n",
    "    for index, row in dataframe1.iterrows():\n",
    "        list_Text.append(row['text'])\n",
    "    all_txt = ' '.join([str(elem) for elem in list_Text])\n",
    "    merge_dict = {}\n",
    "    merge_dict['text'] = all_txt\n",
    "    #     merge_dict['forumTopicText'] = str(list_Text)\n",
    "    return merge_dict\n",
    "\n",
    "# keywords=['BCG', 'Chemotherapy', 'Dx', 'Surgery', 'TURBT']\n",
    "# df_test = pd.read_csv('csvFiles/processed_topicPostByStageWoUserName.csv')\n",
    "\n",
    "# df_test = pd.read_csv('csvFiles/processed_post_reply_ByStageWoUserName_withTrainCorpusIDF.csv')\n",
    "df_train2 = df[pd.notnull(df['signature'])]\n",
    "\n",
    "# DX\n",
    "dx_data = merge_rows(df_train2[df_train2.signature.str.contains('Dx',case=False)])\n",
    "                        \n",
    "# Surgery\n",
    "surgery_data = merge_rows(df_train2[df_train2.signature.str.contains('Surgery',case=False)])\n",
    "                        \n",
    "# Chemotherapy\n",
    "chemo_data = merge_rows(df_train2[df_train2.signature.str.contains('Chemotherapy',case=False)])\n",
    "                        \n",
    "# TURBT\n",
    "TURB_data = merge_rows(df_train2[df_train2.signature.str.contains('TURBT',case=False)])\n",
    "                        \n",
    "# BCG\n",
    "BCG_data = merge_rows(df_train2[df_train2.signature.str.contains('BCG',case=False)])\n",
    "                        \n",
    "\n",
    "\n",
    "\n",
    "df_test = pd.DataFrame([dx_data, surgery_data, chemo_data, TURB_data, BCG_data])\n",
    "\n",
    "# df_test.to_csv('processed_text_ByStageWoUserName_withTrainCorpusIDF.csv')\n",
    "# df.to_csv('topicPostByStage.csv', index=False)\n",
    "del(df_train2,dx_data, surgery_data, chemo_data, TURB_data, BCG_data )\n"
   ]
  },
  {
   "cell_type": "code",
   "execution_count": 161,
   "metadata": {},
   "outputs": [],
   "source": [
    "# # TF-IDF option-1\n",
    "from sklearn.feature_extraction.text import TfidfVectorizer\n",
    "\n",
    "# max_df = 0.50 means \"ignore terms that appear in more than 50% of the documents\".\n",
    "# max_df = 25 means \"ignore terms that appear in more than 25 documents\".\n",
    "# min_df = 0.01 means \"ignore terms that appear in less than 1% of the documents\".\n",
    "# min_df = 5 means \"ignore terms that appear in less than 5 documents\".\n",
    "# tfidf = TfidfVectorizer(max_features=1000, lowercase=False, analyzer='word', stop_words= 'english',ngram_range=(1,1))\n",
    "# tfidf = TfidfVectorizer(lowercase=True, analyzer='word', stop_words= 'english',ngram_range=(1,1))\n",
    "\n",
    "# tfidf = TfidfVectorizer(max_df = 0.50,min_df=0.01 lowercase=True, analyzer='word', stop_words= 'english',ngram_range=(1,1))\n",
    "\n",
    "tfidf = TfidfVectorizer(lowercase=True, analyzer='word', stop_words= 'english',ngram_range=(1,1))\n",
    "\n",
    "# Learn vocabulary and idf, return term-document matrix.\n",
    "# tfidf_vect = tfidf.fit_transform(df['forumTopicText'])\n",
    "# tfidf_vect = tfidf.fit_transform(df['text'])\n",
    "\n",
    "# tfidf_vectorizer=TfidfVectorizer(use_idf=True)\n",
    "# Learn vocabulary and idf from training set.\n",
    "fitted_vectorizer=tfidf.fit(df['text'])\n",
    "# Uses the vocabulary and document frequencies (df) learned by fit (or fit_transform).\n",
    "# tfidf_vectorizer_vectors=fitted_vectorizer.transform(df['text'])\n",
    "# tfidf_vectorizer_vectors=fitted_vectorizer.transform(df_test.iloc[4]['text'])\n",
    "tfidf_vectorizer_vectors=fitted_vectorizer.transform(df_test['text'])\n",
    "df1 = pd.DataFrame(tfidf_vectorizer_vectors.toarray(), columns=fitted_vectorizer.get_feature_names())\n",
    "df2 = df1.transpose()\n",
    "df2.to_csv('tfidf_post_reply_ByStageWoUserName_withTrainCorpusIDF_properLemma_BladderCancer.csv')\n"
   ]
  },
  {
   "cell_type": "code",
   "execution_count": 181,
   "metadata": {},
   "outputs": [],
   "source": [
    "# Tuning TFIDF\n",
    "# tuned_TFIDF = np.sqrt(tfidf_vectorizer_vectors.toarray() / fitted_vectorizer.idf_)*fitted_vectorizer.idf_\n",
    "# tuned_TFIDF = np.sqrt(np.sqrt(tfidf_vectorizer_vectors.toarray() / fitted_vectorizer.idf_))*fitted_vectorizer.idf_\n",
    "tuned_TFIDF = np.sqrt(np.sqrt(np.sqrt(tfidf_vectorizer_vectors.toarray() / fitted_vectorizer.idf_)))*fitted_vectorizer.idf_\n",
    "df_tuned1 = pd.DataFrame(tuned_TFIDF, columns=fitted_vectorizer.get_feature_names())\n",
    "df_tuned = df_tuned1.transpose()\n",
    "df_tuned.columns =['Dx', 'Surgery', 'Chemo', 'TURB', 'BCG'] \n",
    "df_tuned.to_csv('tfidf_tuned_BladderCancer.csv')"
   ]
  },
  {
   "cell_type": "code",
   "execution_count": 163,
   "metadata": {},
   "outputs": [
    {
     "data": {
      "text/plain": [
       "array(['cancer', 'bladder', 'bcg'], dtype='<U108')"
      ]
     },
     "execution_count": 163,
     "metadata": {},
     "output_type": "execute_result"
    }
   ],
   "source": [
    "# Getting top TFIDF\n",
    "feature_array = np.array(fitted_vectorizer.get_feature_names())\n",
    "tfidf_sorting = np.argsort(tfidf_vectorizer_vectors.toarray()).flatten()[::-1]\n",
    "\n",
    "n = 3\n",
    "top_n = feature_array[tfidf_sorting][:n]\n",
    "top_n"
   ]
  },
  {
   "cell_type": "code",
   "execution_count": 192,
   "metadata": {},
   "outputs": [],
   "source": [
    "# sorting keywords based on DX \n",
    "df_tuned.sort_values(\"Dx\", axis = 0, ascending = False, \n",
    "                 inplace = True, na_position ='first')\n",
    "top100Dx = df_tuned.index.tolist()[0:100]\n",
    "# sorting keywords based on Surgery\n",
    "df_tuned.sort_values(\"Surgery\", axis = 0, ascending = False, \n",
    "                 inplace = True, na_position ='first')\n",
    "top100Surgery = df_tuned.index.tolist()[0:100]\n",
    "# sorting keywords based on Chemo\n",
    "df_tuned.sort_values(\"Chemo\", axis = 0, ascending = False, \n",
    "                 inplace = True, na_position ='first')\n",
    "top100Chemo = df_tuned.index.tolist()[0:100]\n",
    "# sorting keywords based on TURB \n",
    "df_tuned.sort_values(\"TURB\", axis = 0, ascending = False, \n",
    "                 inplace = True, na_position ='first')\n",
    "top100TURB = df_tuned.index.tolist()[0:100]\n",
    "# sorting keywords based on BCG \n",
    "df_tuned.sort_values(\"BCG\", axis = 0, ascending = False, \n",
    "                 inplace = True, na_position ='first')\n",
    "top100BCG = df_tuned.index.tolist()[0:100]\n",
    "keywords = list(set(top100Dx+top100Surgery+top100Chemo+top100Chemo+top100BCG))\n",
    "keywords.insert(0,'<GO>')\n",
    "keywords.insert(1,'<EOS>')\n",
    "keywords.insert(2,'<unk>')\n",
    "len(keywords)\n",
    "with open('word.idx', 'w') as f:\n",
    "    count=0\n",
    "    for item in keywords:\n",
    "        count+=1\n",
    "        f.write('{} {}\\n'.format(item, count))"
   ]
  },
  {
   "cell_type": "code",
   "execution_count": null,
   "metadata": {},
   "outputs": [],
   "source": []
  }
 ],
 "metadata": {
  "kernelspec": {
   "display_name": "Python 3",
   "language": "python",
   "name": "python3"
  },
  "language_info": {
   "codemirror_mode": {
    "name": "ipython",
    "version": 3
   },
   "file_extension": ".py",
   "mimetype": "text/x-python",
   "name": "python",
   "nbconvert_exporter": "python",
   "pygments_lexer": "ipython3",
   "version": "3.7.3"
  }
 },
 "nbformat": 4,
 "nbformat_minor": 2
}
