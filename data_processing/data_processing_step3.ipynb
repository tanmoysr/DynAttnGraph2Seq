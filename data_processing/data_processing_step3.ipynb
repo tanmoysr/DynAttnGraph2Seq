{
 "cells": [
  {
   "cell_type": "markdown",
   "metadata": {},
   "source": [
    "Step 1: data cleaning and finding keywords\n",
    "Step 2: Making Dynamic Graph\n",
    "Step 3: Making Dynamic Graph with user specific node features and users' posts"
   ]
  },
  {
   "cell_type": "code",
   "execution_count": 1,
   "metadata": {},
   "outputs": [],
   "source": [
    "import pandas as pd\n",
    "mergedf=pd.read_csv('bladder_cancer/pointOfInterest_bladderCancer_withProperLemma.csv')\n",
    "significant_words_list=pd.read_csv('bladder_cancer/word_bladder_cancer.idx')['<GO> 1'].str.split(expand=True).iloc[2:,0].to_list()"
   ]
  },
  {
   "cell_type": "code",
   "execution_count": 2,
   "metadata": {},
   "outputs": [],
   "source": [
    "def applying_wordprocessing(df,column_name,significant_words_list):\n",
    "\n",
    "    forum_words = []\n",
    "    selected_words= []\n",
    "    for index, row in df.iterrows():\n",
    "        forum_words=forum_words+str(row[column_name]).split()\n",
    "#     forum_words_merge=' '.join(forum_words)\n",
    "    for w in forum_words:\n",
    "        if w in significant_words_list:\n",
    "            selected_words.append(w)\n",
    "        \n",
    "    return selected_words\n"
   ]
  },
  {
   "cell_type": "code",
   "execution_count": 3,
   "metadata": {},
   "outputs": [],
   "source": [
    "forum_name_dict={'newly diagnosed': 0, \n",
    "                 'non invasive superficial bladder cancer questions and comments': 1, \n",
    "                 'muscle invasive bladder cancer questions and comments': 2, \n",
    "                 'metastatic bladder cancer': 3, \n",
    "                 'women and bladder cancer': 4, \n",
    "                 'men and bladder cancer': 5, \n",
    "                 'caregivers questions and comments': 6, \n",
    "                 'articles of interest': 7, \n",
    "                 'chit chat': 8}"
   ]
  },
  {
   "cell_type": "code",
   "execution_count": 4,
   "metadata": {},
   "outputs": [],
   "source": [
    "# static forum data user specific\n",
    "import numpy as np\n",
    "import json\n",
    "from collections import OrderedDict\n",
    "\n",
    "input_path = \"bladder_cancer/dev_wo_post.data\"\n",
    "with open(input_path, 'r') as f:\n",
    "    lines = f.readlines()\n",
    "    for line in lines:\n",
    "        line = line.strip()\n",
    "        jo = json.loads(line, object_pairs_hook=OrderedDict)\n",
    "        user = jo['user']\n",
    "        jo['g_ids_features'] = {} # empty dictionary \n",
    "        user_DF = mergedf[mergedf.author.str.match(pat = user,case=True)] # Case sensitive\n",
    "        for index,forum_name in enumerate(forum_name_dict):\n",
    "        #     print(index)\n",
    "            user_DF_perforum = user_DF[user_DF.forum.str.match(pat = forum_name,case=True)]\n",
    "            column_name = 'text'\n",
    "            forum_words= applying_wordprocessing(user_DF_perforum,column_name,significant_words_list)\n",
    "        #   selected_words_dic[index]=set(forum_words)\n",
    "            if str(index) not in jo['g_ids_features']:\n",
    "                jo['g_ids_features'][str(index)]=''\n",
    "            jo['g_ids_features'][str(index)] = jo['g_ids_features'][str(index)] +' '+' '.join(list(set(forum_words)))\n",
    "        # Adding all posts\n",
    "        jo['posts'] = {} # empty dictionary\n",
    "        user_DF_post_list = user_DF['text'].to_list()\n",
    "        for post_count in range(0,len(user_DF_post_list)):\n",
    "            jo['posts'][str(post_count)]=user_DF_post_list[post_count]\n",
    "            \n",
    "        filePath = \"bladder_cancer/dev.data\"\n",
    "        with open(filePath, \"a+\") as f:\n",
    "            f.write(json.dumps(jo)+\"\\n\")"
   ]
  },
  {
   "cell_type": "code",
   "execution_count": 5,
   "metadata": {},
   "outputs": [],
   "source": [
    "# static forum data user specific\n",
    "import numpy as np\n",
    "import json\n",
    "from collections import OrderedDict\n",
    "\n",
    "input_path = \"bladder_cancer/test_wo_post.data\"\n",
    "with open(input_path, 'r') as f:\n",
    "    lines = f.readlines()\n",
    "    for line in lines:\n",
    "        line = line.strip()\n",
    "        jo = json.loads(line, object_pairs_hook=OrderedDict)\n",
    "        user = jo['user']\n",
    "        jo['g_ids_features'] = {} # empty dictionary \n",
    "        user_DF = mergedf[mergedf.author.str.match(pat = user,case=True)] # Case sensitive\n",
    "        for index,forum_name in enumerate(forum_name_dict):\n",
    "        #     print(index)\n",
    "            user_DF_perforum = user_DF[user_DF.forum.str.match(pat = forum_name,case=True)]\n",
    "            column_name = 'text'\n",
    "            forum_words= applying_wordprocessing(user_DF_perforum,column_name,significant_words_list)\n",
    "        #   selected_words_dic[index]=set(forum_words)\n",
    "            if str(index) not in jo['g_ids_features']:\n",
    "                jo['g_ids_features'][str(index)]=''\n",
    "            jo['g_ids_features'][str(index)] = jo['g_ids_features'][str(index)] +' '+' '.join(list(set(forum_words)))\n",
    "        # Adding all posts\n",
    "        jo['posts'] = {} # empty dictionary\n",
    "        user_DF_post_list = user_DF['text'].to_list()\n",
    "        for post_count in range(0,len(user_DF_post_list)):\n",
    "            jo['posts'][str(post_count)]=user_DF_post_list[post_count]\n",
    "            \n",
    "        filePath = \"bladder_cancer/test.data\"\n",
    "        with open(filePath, \"a+\") as f:\n",
    "            f.write(json.dumps(jo)+\"\\n\")"
   ]
  },
  {
   "cell_type": "code",
   "execution_count": 6,
   "metadata": {},
   "outputs": [],
   "source": [
    "# static forum data user specific\n",
    "import numpy as np\n",
    "import json\n",
    "from collections import OrderedDict\n",
    "\n",
    "input_path = \"bladder_cancer/train_wo_post.data\"\n",
    "with open(input_path, 'r') as f:\n",
    "    lines = f.readlines()\n",
    "    for line in lines:\n",
    "        line = line.strip()\n",
    "        jo = json.loads(line, object_pairs_hook=OrderedDict)\n",
    "        user = jo['user']\n",
    "        jo['g_ids_features'] = {} # empty dictionary \n",
    "        user_DF = mergedf[mergedf.author.str.match(pat = user,case=True)] # Case sensitive\n",
    "        for index,forum_name in enumerate(forum_name_dict):\n",
    "        #     print(index)\n",
    "            user_DF_perforum = user_DF[user_DF.forum.str.match(pat = forum_name,case=True)]\n",
    "            column_name = 'text'\n",
    "            forum_words= applying_wordprocessing(user_DF_perforum,column_name,significant_words_list)\n",
    "        #   selected_words_dic[index]=set(forum_words)\n",
    "            if str(index) not in jo['g_ids_features']:\n",
    "                jo['g_ids_features'][str(index)]=''\n",
    "            jo['g_ids_features'][str(index)] = jo['g_ids_features'][str(index)] +' '+' '.join(list(set(forum_words)))\n",
    "        # Adding all posts\n",
    "        jo['posts'] = {} # empty dictionary\n",
    "        user_DF_post_list = user_DF['text'].to_list()\n",
    "        for post_count in range(0,len(user_DF_post_list)):\n",
    "            jo['posts'][str(post_count)]=user_DF_post_list[post_count]\n",
    "            \n",
    "        filePath = \"bladder_cancer/train.data\"\n",
    "        with open(filePath, \"a+\") as f:\n",
    "            f.write(json.dumps(jo)+\"\\n\")"
   ]
  },
  {
   "cell_type": "code",
   "execution_count": null,
   "metadata": {},
   "outputs": [],
   "source": []
  }
 ],
 "metadata": {
  "kernelspec": {
   "display_name": "Python 3",
   "language": "python",
   "name": "python3"
  },
  "language_info": {
   "codemirror_mode": {
    "name": "ipython",
    "version": 3
   },
   "file_extension": ".py",
   "mimetype": "text/x-python",
   "name": "python",
   "nbconvert_exporter": "python",
   "pygments_lexer": "ipython3",
   "version": "3.7.3"
  }
 },
 "nbformat": 4,
 "nbformat_minor": 2
}
